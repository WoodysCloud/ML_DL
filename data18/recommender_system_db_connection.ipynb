{
 "cells": [
  {
   "cell_type": "code",
   "execution_count": 1,
   "id": "7f218740",
   "metadata": {},
   "outputs": [
    {
     "name": "stdout",
     "output_type": "stream",
     "text": [
      "Collecting pymysql\n",
      "  Using cached PyMySQL-1.0.2-py3-none-any.whl (43 kB)\n",
      "Installing collected packages: pymysql\n",
      "Successfully installed pymysql-1.0.2\n"
     ]
    }
   ],
   "source": [
    "# !pip install pymysql"
   ]
  },
  {
   "cell_type": "code",
   "execution_count": 34,
   "id": "a6bad4d6",
   "metadata": {},
   "outputs": [],
   "source": [
    "import pymysql"
   ]
  },
  {
   "cell_type": "code",
   "execution_count": 35,
   "id": "552bd464",
   "metadata": {},
   "outputs": [
    {
     "name": "stdout",
     "output_type": "stream",
     "text": [
      "1. 연결성공\n"
     ]
    }
   ],
   "source": [
    "con = pymysql.connect(\n",
    "    host = 'localhost', \n",
    "    port = 3306, # int값\n",
    "    user = 'root', \n",
    "    password = 'woody1234', \n",
    "    db = 'mldb3', \n",
    "    charset = 'utf8'\n",
    ")\n",
    "\n",
    "con # stream: 통로\n",
    "print('1. 연결성공')"
   ]
  },
  {
   "cell_type": "code",
   "execution_count": 36,
   "id": "f63b1b92",
   "metadata": {},
   "outputs": [
    {
     "name": "stdout",
     "output_type": "stream",
     "text": [
      "2. 커서 객체 획득\n"
     ]
    }
   ],
   "source": [
    "cur = con.cursor()\n",
    "cur # 통로 안 객체 가리킴\n",
    "print('2. 커서 객체 획득')"
   ]
  },
  {
   "cell_type": "code",
   "execution_count": 37,
   "id": "b56c3f36",
   "metadata": {},
   "outputs": [],
   "source": [
    "# sql = 'select * from member'\n",
    "sql = \"\"\"\n",
    "    SELECT m.name, m.tel, b.content\n",
    "    FROM board b\n",
    "    INNER JOIN member m ON m.id = b.writer\n",
    "    WHERE content LIKE \"%java\"\n",
    "    \"\"\""
   ]
  },
  {
   "cell_type": "code",
   "execution_count": 38,
   "id": "595f68df",
   "metadata": {},
   "outputs": [
    {
     "name": "stdout",
     "output_type": "stream",
     "text": [
      "3. sql 전송 성공 2\n"
     ]
    }
   ],
   "source": [
    "result_count = cur.execute(sql) # 객체 row 갯수 가져옴\n",
    "\n",
    "print('3. sql 전송 성공', result_count)"
   ]
  },
  {
   "cell_type": "code",
   "execution_count": 39,
   "id": "2945ddcd",
   "metadata": {},
   "outputs": [
    {
     "name": "stdout",
     "output_type": "stream",
     "text": [
      "4. 검색결과 ------------\n",
      "(('apple', '555555555', 'fun java'), ('apple', '555555555', 'good java'))\n"
     ]
    }
   ],
   "source": [
    "rows = cur.fetchall()\n",
    "print('4. 검색결과 ------------')\n",
    "print(rows)"
   ]
  },
  {
   "cell_type": "code",
   "execution_count": 40,
   "id": "0d59e5ba",
   "metadata": {},
   "outputs": [],
   "source": [
    "# 메모리가 잡혀있는 상태이므로 연결 끊어줘야 함\n",
    "con.close()"
   ]
  },
  {
   "cell_type": "code",
   "execution_count": 41,
   "id": "b0294e18",
   "metadata": {},
   "outputs": [
    {
     "name": "stdout",
     "output_type": "stream",
     "text": [
      "0 ('apple', '555555555', 'fun java')\n",
      "1 ('apple', '555555555', 'good java')\n"
     ]
    }
   ],
   "source": [
    "for index, row in enumerate(rows):\n",
    "    print(index, row)\n",
    "#     print(index, row[0])"
   ]
  },
  {
   "cell_type": "code",
   "execution_count": null,
   "id": "96c9b19e",
   "metadata": {},
   "outputs": [],
   "source": []
  }
 ],
 "metadata": {
  "kernelspec": {
   "display_name": "Python 3",
   "language": "python",
   "name": "python3"
  },
  "language_info": {
   "codemirror_mode": {
    "name": "ipython",
    "version": 3
   },
   "file_extension": ".py",
   "mimetype": "text/x-python",
   "name": "python",
   "nbconvert_exporter": "python",
   "pygments_lexer": "ipython3",
   "version": "3.8.8"
  }
 },
 "nbformat": 4,
 "nbformat_minor": 5
}
