{
 "cells": [
  {
   "cell_type": "code",
   "execution_count": 2,
   "id": "7f218740",
   "metadata": {},
   "outputs": [],
   "source": [
    "# !pip install pymysql"
   ]
  },
  {
   "cell_type": "code",
   "execution_count": 61,
   "id": "a6bad4d6",
   "metadata": {},
   "outputs": [],
   "source": [
    "import pymysql"
   ]
  },
  {
   "cell_type": "code",
   "execution_count": 62,
   "id": "552bd464",
   "metadata": {},
   "outputs": [
    {
     "name": "stdout",
     "output_type": "stream",
     "text": [
      "1. 연결성공\n"
     ]
    }
   ],
   "source": [
    "con = pymysql.connect(\n",
    "    host = 'localhost', \n",
    "    port = 3306, # int값\n",
    "    user = 'root', \n",
    "    password = 'woody1234', \n",
    "    db = 'mldb3', \n",
    "    charset = 'utf8'\n",
    ")\n",
    "\n",
    "con # stream: 통로\n",
    "print('1. 연결성공')"
   ]
  },
  {
   "cell_type": "code",
   "execution_count": 63,
   "id": "f63b1b92",
   "metadata": {},
   "outputs": [
    {
     "name": "stdout",
     "output_type": "stream",
     "text": [
      "2. 커서 객체 획득\n"
     ]
    }
   ],
   "source": [
    "cur = con.cursor()\n",
    "cur # 통로 안 객체 가리킴\n",
    "print('2. 커서 객체 획득')"
   ]
  },
  {
   "cell_type": "code",
   "execution_count": 64,
   "id": "b56c3f36",
   "metadata": {},
   "outputs": [],
   "source": [
    "# sql = 'select * from member'\n",
    "sql = \"\"\"\n",
    "    SELECT m.name, m.tel, b.content\n",
    "    FROM board b\n",
    "    INNER JOIN member m ON m.id = b.writer\n",
    "    WHERE content LIKE \"%java\"\n",
    "    \"\"\""
   ]
  },
  {
   "cell_type": "code",
   "execution_count": 65,
   "id": "595f68df",
   "metadata": {},
   "outputs": [
    {
     "name": "stdout",
     "output_type": "stream",
     "text": [
      "3. sql 전송 성공 2\n"
     ]
    }
   ],
   "source": [
    "result_count = cur.execute(sql) # 객체 row 갯수 가져옴\n",
    "\n",
    "print('3. sql 전송 성공', result_count)"
   ]
  },
  {
   "cell_type": "code",
   "execution_count": 66,
   "id": "2945ddcd",
   "metadata": {},
   "outputs": [
    {
     "name": "stdout",
     "output_type": "stream",
     "text": [
      "4. 검색결과 ------------\n",
      "(('apple', '555555555', 'fun java'), ('apple', '555555555', 'good java'))\n"
     ]
    }
   ],
   "source": [
    "rows = cur.fetchall()\n",
    "print('4. 검색결과 ------------')\n",
    "print(rows)"
   ]
  },
  {
   "cell_type": "code",
   "execution_count": 67,
   "id": "0d59e5ba",
   "metadata": {},
   "outputs": [],
   "source": [
    "# 메모리가 잡혀있는 상태이므로 연결 끊어줘야 함\n",
    "con.close()"
   ]
  },
  {
   "cell_type": "code",
   "execution_count": 68,
   "id": "b0294e18",
   "metadata": {},
   "outputs": [
    {
     "name": "stdout",
     "output_type": "stream",
     "text": [
      "0 ('apple', '555555555', 'fun java')\n",
      "1 ('apple', '555555555', 'good java')\n"
     ]
    }
   ],
   "source": [
    "for index, row in enumerate(rows):\n",
    "    print(index, row)\n",
    "#     print(index, row[0])"
   ]
  },
  {
   "cell_type": "code",
   "execution_count": 69,
   "id": "96c9b19e",
   "metadata": {},
   "outputs": [],
   "source": [
    "# db 연동 함수\n",
    "def connect():\n",
    "    con = pymysql.connect(\n",
    "        host = 'localhost', \n",
    "        port = 3306, # int값\n",
    "        user = 'root', \n",
    "        password = 'woody1234', \n",
    "        db = 'mldb3', \n",
    "        charset = 'utf8'\n",
    "    )\n",
    "    print(\"1. 연결성공\")\n",
    "\n",
    "    cur = con.cursor()\n",
    "    print(\"2. 커서 객체 획득\")\n",
    "    return cur, con"
   ]
  },
  {
   "cell_type": "code",
   "execution_count": 70,
   "id": "e0cfa0ec",
   "metadata": {},
   "outputs": [
    {
     "name": "stdout",
     "output_type": "stream",
     "text": [
      "1. 연결성공\n",
      "2. 커서 객체 획득\n"
     ]
    },
    {
     "data": {
      "text/plain": [
       "<pymysql.cursors.Cursor at 0x7fa47fdec550>"
      ]
     },
     "execution_count": 70,
     "metadata": {},
     "output_type": "execute_result"
    }
   ],
   "source": [
    "cur2, con = connect() \n",
    "cur2"
   ]
  },
  {
   "cell_type": "code",
   "execution_count": 71,
   "id": "021ace01",
   "metadata": {},
   "outputs": [],
   "source": [
    "def sql_execute(cur2, data):\n",
    "    sql = \"\"\"\n",
    "    select o2.orderid, m.name, o2.productid, o2.totalprice\n",
    "    from orderlist o2\n",
    "    inner join `member` m\n",
    "    on o2.memberid = m.id and m.id = %s\n",
    "    order by productid desc\n",
    "    \"\"\"\n",
    "    result = cur2.execute(sql, data)\n",
    "    return result # db rows 개수 return"
   ]
  },
  {
   "cell_type": "code",
   "execution_count": 72,
   "id": "7c852c45",
   "metadata": {},
   "outputs": [
    {
     "data": {
      "text/plain": [
       "5"
      ]
     },
     "execution_count": 72,
     "metadata": {},
     "output_type": "execute_result"
    }
   ],
   "source": [
    "sql_result = sql_execute(cur2, 'park')\n",
    "sql_result"
   ]
  },
  {
   "cell_type": "code",
   "execution_count": 73,
   "id": "05ff4563",
   "metadata": {},
   "outputs": [],
   "source": [
    "## 1. 누가 어떤 물건을 얼마나 샀는가?"
   ]
  },
  {
   "cell_type": "code",
   "execution_count": 74,
   "id": "fbd887c1",
   "metadata": {},
   "outputs": [
    {
     "name": "stdout",
     "output_type": "stream",
     "text": [
      "누가? >> park\n"
     ]
    }
   ],
   "source": [
    "who = input(\"누가? >> \")"
   ]
  },
  {
   "cell_type": "code",
   "execution_count": 75,
   "id": "74598845",
   "metadata": {},
   "outputs": [
    {
     "data": {
      "text/plain": [
       "5"
      ]
     },
     "execution_count": 75,
     "metadata": {},
     "output_type": "execute_result"
    }
   ],
   "source": [
    "sql_result2 = sql_execute(cur2, who)\n",
    "sql_result2"
   ]
  },
  {
   "cell_type": "code",
   "execution_count": 76,
   "id": "b92dc790",
   "metadata": {},
   "outputs": [],
   "source": [
    "def out_data(cur2):\n",
    "    rows = cur2.fetchall()\n",
    "    return rows"
   ]
  },
  {
   "cell_type": "code",
   "execution_count": 77,
   "id": "426e3b49",
   "metadata": {},
   "outputs": [
    {
     "data": {
      "text/plain": [
       "((2, 'park', '101', 6000),\n",
       " (1, 'park', '100', 5000),\n",
       " (3, 'park', '100', 10000),\n",
       " (4, 'park', '100', 3000),\n",
       " (8, 'park', '100', 1000))"
      ]
     },
     "execution_count": 77,
     "metadata": {},
     "output_type": "execute_result"
    }
   ],
   "source": [
    "result_rows = out_data(cur2)\n",
    "result_rows"
   ]
  },
  {
   "cell_type": "code",
   "execution_count": 78,
   "id": "4441f71a",
   "metadata": {},
   "outputs": [],
   "source": [
    "def db_close(con):\n",
    "    con.close()"
   ]
  },
  {
   "cell_type": "code",
   "execution_count": 79,
   "id": "4a9fa1ea",
   "metadata": {},
   "outputs": [],
   "source": [
    "db_close(con)"
   ]
  },
  {
   "cell_type": "code",
   "execution_count": 80,
   "id": "707bde14",
   "metadata": {},
   "outputs": [],
   "source": [
    "## 제일 높은 금액은?"
   ]
  },
  {
   "cell_type": "code",
   "execution_count": 81,
   "id": "de844fcc",
   "metadata": {},
   "outputs": [
    {
     "data": {
      "text/plain": [
       "[6000, 5000, 10000, 3000, 1000]"
      ]
     },
     "execution_count": 81,
     "metadata": {},
     "output_type": "execute_result"
    }
   ],
   "source": [
    "[x[3] for x in result_rows]"
   ]
  },
  {
   "cell_type": "code",
   "execution_count": 82,
   "id": "865a856b",
   "metadata": {},
   "outputs": [
    {
     "data": {
      "text/plain": [
       "10000"
      ]
     },
     "execution_count": 82,
     "metadata": {},
     "output_type": "execute_result"
    }
   ],
   "source": [
    "max([x[3] for x in result_rows])"
   ]
  },
  {
   "cell_type": "code",
   "execution_count": 83,
   "id": "a42ba810",
   "metadata": {},
   "outputs": [],
   "source": [
    "## 제일 많이 산 물건의 id는?"
   ]
  },
  {
   "cell_type": "code",
   "execution_count": 84,
   "id": "8922d46a",
   "metadata": {},
   "outputs": [],
   "source": [
    "import pandas as pd"
   ]
  },
  {
   "cell_type": "code",
   "execution_count": 85,
   "id": "3ae95cdb",
   "metadata": {},
   "outputs": [],
   "source": [
    "result_df = pd.DataFrame(data=result_rows, columns=['주문id', 'name', '제품id', '주문총가격'])"
   ]
  },
  {
   "cell_type": "code",
   "execution_count": 86,
   "id": "932a0e78",
   "metadata": {},
   "outputs": [
    {
     "data": {
      "text/html": [
       "<div>\n",
       "<style scoped>\n",
       "    .dataframe tbody tr th:only-of-type {\n",
       "        vertical-align: middle;\n",
       "    }\n",
       "\n",
       "    .dataframe tbody tr th {\n",
       "        vertical-align: top;\n",
       "    }\n",
       "\n",
       "    .dataframe thead th {\n",
       "        text-align: right;\n",
       "    }\n",
       "</style>\n",
       "<table border=\"1\" class=\"dataframe\">\n",
       "  <thead>\n",
       "    <tr style=\"text-align: right;\">\n",
       "      <th></th>\n",
       "      <th>주문id</th>\n",
       "      <th>name</th>\n",
       "      <th>제품id</th>\n",
       "      <th>주문총가격</th>\n",
       "    </tr>\n",
       "  </thead>\n",
       "  <tbody>\n",
       "    <tr>\n",
       "      <th>0</th>\n",
       "      <td>2</td>\n",
       "      <td>park</td>\n",
       "      <td>101</td>\n",
       "      <td>6000</td>\n",
       "    </tr>\n",
       "    <tr>\n",
       "      <th>1</th>\n",
       "      <td>1</td>\n",
       "      <td>park</td>\n",
       "      <td>100</td>\n",
       "      <td>5000</td>\n",
       "    </tr>\n",
       "    <tr>\n",
       "      <th>2</th>\n",
       "      <td>3</td>\n",
       "      <td>park</td>\n",
       "      <td>100</td>\n",
       "      <td>10000</td>\n",
       "    </tr>\n",
       "    <tr>\n",
       "      <th>3</th>\n",
       "      <td>4</td>\n",
       "      <td>park</td>\n",
       "      <td>100</td>\n",
       "      <td>3000</td>\n",
       "    </tr>\n",
       "    <tr>\n",
       "      <th>4</th>\n",
       "      <td>8</td>\n",
       "      <td>park</td>\n",
       "      <td>100</td>\n",
       "      <td>1000</td>\n",
       "    </tr>\n",
       "  </tbody>\n",
       "</table>\n",
       "</div>"
      ],
      "text/plain": [
       "   주문id  name 제품id  주문총가격\n",
       "0     2  park  101   6000\n",
       "1     1  park  100   5000\n",
       "2     3  park  100  10000\n",
       "3     4  park  100   3000\n",
       "4     8  park  100   1000"
      ]
     },
     "execution_count": 86,
     "metadata": {},
     "output_type": "execute_result"
    }
   ],
   "source": [
    "result_df"
   ]
  },
  {
   "cell_type": "code",
   "execution_count": 87,
   "id": "e2f10e45",
   "metadata": {},
   "outputs": [
    {
     "data": {
      "text/plain": [
       "['101', '100', '100', '100', '100']"
      ]
     },
     "execution_count": 87,
     "metadata": {},
     "output_type": "execute_result"
    }
   ],
   "source": [
    "[x for x in result_df['제품id']]"
   ]
  },
  {
   "cell_type": "code",
   "execution_count": 88,
   "id": "40c348de",
   "metadata": {},
   "outputs": [],
   "source": [
    "from collections import Counter"
   ]
  },
  {
   "cell_type": "code",
   "execution_count": 89,
   "id": "7a632b46",
   "metadata": {},
   "outputs": [],
   "source": [
    "counter_id = Counter(result_df['제품id'])"
   ]
  },
  {
   "cell_type": "code",
   "execution_count": 90,
   "id": "c3160375",
   "metadata": {},
   "outputs": [
    {
     "data": {
      "text/plain": [
       "Counter({'101': 1, '100': 4})"
      ]
     },
     "execution_count": 90,
     "metadata": {},
     "output_type": "execute_result"
    }
   ],
   "source": [
    "counter_id"
   ]
  },
  {
   "cell_type": "code",
   "execution_count": 91,
   "id": "37f8868d",
   "metadata": {},
   "outputs": [
    {
     "name": "stdout",
     "output_type": "stream",
     "text": [
      "[('100', 4)]\n",
      "100\n"
     ]
    },
    {
     "data": {
      "text/plain": [
       "'100'"
      ]
     },
     "execution_count": 91,
     "metadata": {},
     "output_type": "execute_result"
    }
   ],
   "source": [
    "max_id = counter_id.most_common(n=1)\n",
    "print(max_id)\n",
    "print(max_id[0][0])\n",
    "max_id_result = max_id[0][0]\n",
    "max_id_result"
   ]
  },
  {
   "cell_type": "code",
   "execution_count": 92,
   "id": "342d2318",
   "metadata": {},
   "outputs": [],
   "source": [
    "def sql_execute2(cur2, data):\n",
    "    sql = \"\"\"\n",
    "    select * from product\n",
    "    where id = %s\n",
    "    \"\"\"\n",
    "    result2 = cur2.execute(sql, data)\n",
    "    return result2"
   ]
  },
  {
   "cell_type": "code",
   "execution_count": 93,
   "id": "6f62f485",
   "metadata": {},
   "outputs": [
    {
     "name": "stdout",
     "output_type": "stream",
     "text": [
      "1. 연결성공\n",
      "2. 커서 객체 획득\n"
     ]
    },
    {
     "data": {
      "text/plain": [
       "<pymysql.cursors.Cursor at 0x7fa47fdec160>"
      ]
     },
     "execution_count": 93,
     "metadata": {},
     "output_type": "execute_result"
    }
   ],
   "source": [
    "cur2, con = connect()\n",
    "cur2"
   ]
  },
  {
   "cell_type": "code",
   "execution_count": 94,
   "id": "674d106b",
   "metadata": {},
   "outputs": [
    {
     "data": {
      "text/plain": [
       "1"
      ]
     },
     "execution_count": 94,
     "metadata": {},
     "output_type": "execute_result"
    }
   ],
   "source": [
    "sql_result2 = sql_execute2(cur2, max_id_result)\n",
    "sql_result2"
   ]
  },
  {
   "cell_type": "code",
   "execution_count": 95,
   "id": "e958f7ba",
   "metadata": {},
   "outputs": [
    {
     "data": {
      "text/plain": [
       "('100', 'java', 'fun java', '1000')"
      ]
     },
     "execution_count": 95,
     "metadata": {},
     "output_type": "execute_result"
    }
   ],
   "source": [
    "result_rows = out_data(cur2)\n",
    "result_rows[0]"
   ]
  },
  {
   "cell_type": "code",
   "execution_count": 96,
   "id": "76a38dba",
   "metadata": {},
   "outputs": [
    {
     "name": "stdout",
     "output_type": "stream",
     "text": [
      "당신에게 추천하고 싶은 물건은 다음과 같습니다.\n",
      "-----------------------------------\n",
      "물건의 이름은  java\n",
      "물건의 이름은  fun java\n",
      "물건의 이름은  1000\n"
     ]
    }
   ],
   "source": [
    "print(\"당신에게 추천하고 싶은 물건은 다음과 같습니다.\")\n",
    "print(\"-----------------------------------\")\n",
    "print(\"물건의 이름은 \", result_rows[0][1])\n",
    "print(\"물건의 이름은 \", result_rows[0][2])\n",
    "print(\"물건의 이름은 \", result_rows[0][3])"
   ]
  },
  {
   "cell_type": "code",
   "execution_count": 97,
   "id": "096b78b3",
   "metadata": {},
   "outputs": [],
   "source": [
    "def sql_execute3(con, cur2, data):\n",
    "    sql = \"\"\"\n",
    "    insert into orderlist values (null, %s, %s, %s)\n",
    "    \"\"\"\n",
    "    result2 = cur2.execute(sql, data)\n",
    "    con.commit()\n",
    "    return result2"
   ]
  },
  {
   "cell_type": "code",
   "execution_count": 98,
   "id": "2a940823",
   "metadata": {},
   "outputs": [
    {
     "name": "stdout",
     "output_type": "stream",
     "text": [
      "구매하시겠습니까?(yes/no)yes\n",
      "-------------구매를 진행합니다.-------------\n",
      "당신의 id는 park\n",
      "----구매가 완료되었습니다.\n"
     ]
    }
   ],
   "source": [
    "order_question = input(\"구매하시겠습니까?(yes/no)\")\n",
    "if order_question == \"yes\":\n",
    "    print(\"-------------구매를 진행합니다.-------------\")\n",
    "    your_id = input(\"당신의 id는 \")\n",
    "    data_list = [your_id, result_rows[0][0], int(result_rows[0][3])]\n",
    "    result3 = sql_execute3(con, cur2, data_list)\n",
    "    if result3 == 1:\n",
    "        print(\"----구매가 완료되었습니다.\")\n",
    "    else:\n",
    "        print(\"----구매에 문제가 발생했습니다.\") "
   ]
  },
  {
   "cell_type": "code",
   "execution_count": 1,
   "id": "c0ba169f",
   "metadata": {},
   "outputs": [],
   "source": [
    "# 추천을 하고자 하는 컨텐츠기반 룰을 정하고,\n",
    "# 물건을 3개 이상 추천하는 추천시스템을 완성하시오.\n",
    "# db의 데이터를 임의로 추가할 수 있음.\n",
    "# 함수나 클래스로 모듈화해주세요."
   ]
  },
  {
   "cell_type": "code",
   "execution_count": null,
   "id": "a57ac08b",
   "metadata": {},
   "outputs": [],
   "source": []
  }
 ],
 "metadata": {
  "kernelspec": {
   "display_name": "Python 3",
   "language": "python",
   "name": "python3"
  },
  "language_info": {
   "codemirror_mode": {
    "name": "ipython",
    "version": 3
   },
   "file_extension": ".py",
   "mimetype": "text/x-python",
   "name": "python",
   "nbconvert_exporter": "python",
   "pygments_lexer": "ipython3",
   "version": "3.8.8"
  }
 },
 "nbformat": 4,
 "nbformat_minor": 5
}
