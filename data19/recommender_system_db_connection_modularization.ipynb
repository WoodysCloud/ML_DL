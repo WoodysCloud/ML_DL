{
 "cells": [
  {
   "cell_type": "code",
   "execution_count": 1,
   "id": "2c999b90",
   "metadata": {},
   "outputs": [],
   "source": [
    "# 추천을 하고자 하는 컨텐츠기반 룰을 정하고,\n",
    "# 물건을 3개 이상 추천하는 추천시스템을 완성하시오.\n",
    "# db의 데이터를 임의로 추가할 수 있음.\n",
    "# 함수나 클래스로 모듈화해주세요."
   ]
  },
  {
   "cell_type": "code",
   "execution_count": 2,
   "id": "66387f61",
   "metadata": {},
   "outputs": [],
   "source": [
    "import pymysql\n",
    "import pandas as pd\n",
    "from collections import Counter"
   ]
  },
  {
   "cell_type": "code",
   "execution_count": 3,
   "id": "79f36f37",
   "metadata": {},
   "outputs": [],
   "source": [
    "# 1. board의 제목이나 내용에서 가장 많은 제품\n",
    "\n",
    "# db 연동 함수\n",
    "def connect():\n",
    "    con = pymysql.connect(\n",
    "        host = 'localhost', \n",
    "        port = 3306, # int값\n",
    "        user = 'root', \n",
    "        password = 'woody1234', \n",
    "        db = 'mldb3', \n",
    "        charset = 'utf8'\n",
    "    )\n",
    "    \n",
    "#     print(\"1. 연결성공\")\n",
    "\n",
    "    cur = con.cursor()\n",
    "    \n",
    "#     print(\"2. 커서 객체 획득\")\n",
    "    \n",
    "    return cur, con"
   ]
  },
  {
   "cell_type": "code",
   "execution_count": 5,
   "id": "27c6fbc4",
   "metadata": {},
   "outputs": [],
   "source": [
    "def sql_select1(cur, customer):\n",
    "    sql = \"\"\"\n",
    "    select p.id , p.name , b.title , b.writer\n",
    "    from product p\n",
    "    inner join board b\n",
    "    on p.name = b.title and b.writer != %s\n",
    "    order by p.id\n",
    "    \"\"\"\n",
    "    result = cur.execute(sql, customer)\n",
    "    return result"
   ]
  },
  {
   "cell_type": "code",
   "execution_count": 6,
   "id": "8dc258b9",
   "metadata": {},
   "outputs": [],
   "source": [
    "def out_data(cur):\n",
    "    return cur.fetchall()"
   ]
  },
  {
   "cell_type": "code",
   "execution_count": 9,
   "id": "0da62d91",
   "metadata": {},
   "outputs": [
    {
     "name": "stdout",
     "output_type": "stream",
     "text": [
      "customer's name: fuck\n",
      "\n",
      "Welcome fuck!! fuck님께 추천해드릴 제품은...\n",
      "\n",
      "1. jsp\n",
      "2. java\n",
      "3. spring\n",
      "\n",
      "입니다!!\n"
     ]
    }
   ],
   "source": [
    "# 1. db 연결\n",
    "cur, con = connect()\n",
    "\n",
    "# 2. 고객 정보\n",
    "customer = input(\"customer's name: \")\n",
    "\n",
    "# 3. sql execute\n",
    "sql_select1(cur, customer)\n",
    "\n",
    "# 4. data\n",
    "data = out_data(cur)\n",
    "\n",
    "# 5. dataframe => 상위 3개 추출\n",
    "df = pd.DataFrame(data, columns=['product_id', 'product_name', 'board_title', 'board_writer'])\n",
    "counter_product = Counter(df['product_name'])\n",
    "recom = counter_product.most_common(3)\n",
    "\n",
    "# 6. 추천\n",
    "print(f\"\\nWelcome {customer}!! {customer}님께 추천해드릴 제품은...\\n\")\n",
    "print(f\"1. {recom[0][0]}\")\n",
    "print(f\"2. {recom[1][0]}\")\n",
    "print(f\"3. {recom[2][0]}\")\n",
    "print(\"\\n입니다!!\")\n"
   ]
  },
  {
   "cell_type": "code",
   "execution_count": 19,
   "id": "d650cab8",
   "metadata": {},
   "outputs": [],
   "source": [
    "def sql_select2(cur2, product):\n",
    "    sql=\"\"\"\n",
    "    select p.id , p.price\n",
    "    from product p\n",
    "    where p.name = %s\n",
    "    \"\"\"\n",
    "    result = cur2.execute(sql, product)\n",
    "    return result"
   ]
  },
  {
   "cell_type": "code",
   "execution_count": 20,
   "id": "443ac18f",
   "metadata": {},
   "outputs": [],
   "source": [
    "def sql_insert(con, cur, data):\n",
    "    sql = \"\"\"\n",
    "    insert into orderlist values (null, %s, %s, %s)\n",
    "    \"\"\"\n",
    "    result2 = cur.execute(sql, data)\n",
    "    con.commit()\n",
    "    return result2"
   ]
  },
  {
   "cell_type": "code",
   "execution_count": 21,
   "id": "01921425",
   "metadata": {},
   "outputs": [
    {
     "name": "stdout",
     "output_type": "stream",
     "text": [
      "구매하시겠습니까?(yes/no) yes\n",
      "-------------구매를 진행합니다.-------------\n",
      "당신의 id는 fuck\n",
      "어떤 것을 구매하시겠습니까? jsp\n",
      "(('101', '2000'),)\n",
      "----구매가 완료되었습니다.\n"
     ]
    }
   ],
   "source": [
    "# 7. 구매\n",
    "order_question = input(\"구매하시겠습니까?(yes/no) \")\n",
    "\n",
    "if order_question == \"yes\":\n",
    "    \n",
    "    print(\"-------------구매를 진행합니다.-------------\")\n",
    "    your_id = input(\"당신의 id는 \")\n",
    "    order = input(\"어떤 것을 구매하시겠습니까? \")\n",
    "    \n",
    "    # 구매하고자 하는 제품의 id와 price\n",
    "    sql_select2(cur, order) \n",
    "    product_info = out_data(cur)\n",
    "    \n",
    "    # orderlist에 추가할 정보\n",
    "    data_list = [your_id, product_info[0][0], int(product_info[0][1])]\n",
    "    result3 = sql_insert(con, cur, data_list)\n",
    "    \n",
    "    if result3 == 1:\n",
    "        print(\"----구매가 완료되었습니다.\")\n",
    "    else:\n",
    "        print(\"----구매에 문제가 발생했습니다.\") \n",
    "        \n",
    "elif order_question == \"no\":\n",
    "    print(\"-------------아쉽지만 다음을 기대할게요!!-------------\")\n",
    "\n",
    "else:\n",
    "    print(\"답변 오류 (yes/no로 입력해주세요.)\")"
   ]
  },
  {
   "cell_type": "code",
   "execution_count": null,
   "id": "eda77a2a",
   "metadata": {},
   "outputs": [],
   "source": []
  }
 ],
 "metadata": {
  "kernelspec": {
   "display_name": "Python 3",
   "language": "python",
   "name": "python3"
  },
  "language_info": {
   "codemirror_mode": {
    "name": "ipython",
    "version": 3
   },
   "file_extension": ".py",
   "mimetype": "text/x-python",
   "name": "python",
   "nbconvert_exporter": "python",
   "pygments_lexer": "ipython3",
   "version": "3.8.8"
  }
 },
 "nbformat": 4,
 "nbformat_minor": 5
}
