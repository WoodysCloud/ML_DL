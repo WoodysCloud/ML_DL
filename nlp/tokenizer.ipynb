{
 "cells": [
  {
   "cell_type": "markdown",
   "id": "19bf0b47-a6d8-4324-be06-f0729d2b5676",
   "metadata": {},
   "source": [
    "# Tokenizer Exercise"
   ]
  },
  {
   "cell_type": "code",
   "execution_count": 5,
   "id": "ae5e28d2-83ae-4fae-893d-6a5d9dcc9f81",
   "metadata": {},
   "outputs": [],
   "source": [
    "import nltk\n",
    "import pandas as pd\n",
    "import matplotlib.pyplot as plt"
   ]
  },
  {
   "cell_type": "code",
   "execution_count": 6,
   "id": "94ea7482-24c7-4508-af3b-762a8cbed816",
   "metadata": {},
   "outputs": [
    {
     "data": {
      "text/plain": [
       "True"
      ]
     },
     "execution_count": 6,
     "metadata": {},
     "output_type": "execute_result"
    }
   ],
   "source": [
    "nltk.download('book', quiet=True) # 됐는지 안됐는지만 체크"
   ]
  },
  {
   "cell_type": "code",
   "execution_count": 7,
   "id": "d4854fc8-db2f-4f4b-b062-7b1cc372d9d1",
   "metadata": {},
   "outputs": [],
   "source": [
    "from nltk.book import *"
   ]
  },
  {
   "cell_type": "code",
   "execution_count": 8,
   "id": "9480fa1f-3cad-4d87-8321-3a82d2f79a1e",
   "metadata": {},
   "outputs": [
    {
     "data": {
      "text/plain": [
       "['austen-emma.txt',\n",
       " 'austen-persuasion.txt',\n",
       " 'austen-sense.txt',\n",
       " 'bible-kjv.txt',\n",
       " 'blake-poems.txt',\n",
       " 'bryant-stories.txt',\n",
       " 'burgess-busterbrown.txt',\n",
       " 'carroll-alice.txt',\n",
       " 'chesterton-ball.txt',\n",
       " 'chesterton-brown.txt',\n",
       " 'chesterton-thursday.txt',\n",
       " 'edgeworth-parents.txt',\n",
       " 'melville-moby_dick.txt',\n",
       " 'milton-paradise.txt',\n",
       " 'shakespeare-caesar.txt',\n",
       " 'shakespeare-hamlet.txt',\n",
       " 'shakespeare-macbeth.txt',\n",
       " 'whitman-leaves.txt']"
      ]
     },
     "execution_count": 8,
     "metadata": {},
     "output_type": "execute_result"
    }
   ],
   "source": [
    "nltk.corpus.gutenberg.fileids() # corpus: \"말뭉치\""
   ]
  },
  {
   "cell_type": "code",
   "execution_count": 9,
   "id": "3e8d2a2c-0644-4a6f-a50f-eb7f03b07f3d",
   "metadata": {},
   "outputs": [],
   "source": [
    "emma_raw = nltk.corpus.gutenberg.raw(\"austen-emma.txt\")\n",
    "# print(emma_raw)"
   ]
  },
  {
   "cell_type": "code",
   "execution_count": 10,
   "id": "4fe7e8b4-3ae3-4513-8a43-74dc08d2c369",
   "metadata": {},
   "outputs": [],
   "source": [
    "from nltk.tokenize import sent_tokenize, word_tokenize, RegexpTokenizer # 문장단위, 단어단위, 정규표현식단위\n",
    "# \"import nltk\" 와 다름. 하위 패키지들은 import 따로 해야함."
   ]
  },
  {
   "cell_type": "code",
   "execution_count": 13,
   "id": "874e8caf-84c8-474f-abcf-1c21128110b5",
   "metadata": {},
   "outputs": [
    {
     "data": {
      "text/plain": [
       "'[Emma by Jane Austen 1816]\\n\\nVOLUME I\\n\\nCHAPTER I\\n\\n\\nEmma Woodhouse, handsome, clever, and rich, with a comfortable home\\nand happy disposition, seemed to unite some of the best blessings\\nof existence; and had lived nearly twenty-one years in the world\\nwith very little to distress or vex her.'"
      ]
     },
     "execution_count": 13,
     "metadata": {},
     "output_type": "execute_result"
    }
   ],
   "source": [
    "sent_tokenize(emma_raw[:1000])[0]"
   ]
  },
  {
   "cell_type": "code",
   "execution_count": 16,
   "id": "247d9668-683b-46f4-b188-f3613b2b9660",
   "metadata": {},
   "outputs": [
    {
     "data": {
      "text/plain": [
       "['[',\n",
       " 'Emma',\n",
       " 'by',\n",
       " 'Jane',\n",
       " 'Austen',\n",
       " '1816',\n",
       " ']',\n",
       " 'VOLUME',\n",
       " 'I',\n",
       " 'CHAPTER',\n",
       " 'I',\n",
       " 'Emma',\n",
       " 'Woodhouse',\n",
       " ',',\n",
       " 'handsome',\n",
       " ',',\n",
       " 'clever',\n",
       " ',',\n",
       " 'and',\n",
       " 'rich',\n",
       " ',',\n",
       " 'with',\n",
       " 'a',\n",
       " 'comfortable',\n",
       " 'home',\n",
       " 'and',\n",
       " 'happy',\n",
       " 'disposition',\n",
       " ',',\n",
       " 'seemed',\n",
       " 'to',\n",
       " 'unite',\n",
       " 'some',\n",
       " 'of',\n",
       " 'the',\n",
       " 'best',\n",
       " 'blessings',\n",
       " 'of',\n",
       " 'existence',\n",
       " ';',\n",
       " 'and',\n",
       " 'had',\n",
       " 'lived',\n",
       " 'nearly',\n",
       " 'twenty-one',\n",
       " 'years',\n",
       " 'in',\n",
       " 'the',\n",
       " 'world',\n",
       " 'with',\n",
       " 'very',\n",
       " 'little',\n",
       " 'to',\n",
       " 'distress',\n",
       " 'or',\n",
       " 'vex',\n",
       " 'her',\n",
       " '.',\n",
       " 'She',\n",
       " 'was',\n",
       " 'the',\n",
       " 'youngest',\n",
       " 'of',\n",
       " 'the',\n",
       " 'two',\n",
       " 'daughters',\n",
       " 'of',\n",
       " 'a',\n",
       " 'most',\n",
       " 'affectionate',\n",
       " ',',\n",
       " 'indulgent',\n",
       " 'father',\n",
       " ';',\n",
       " 'and',\n",
       " 'had',\n",
       " ',',\n",
       " 'in',\n",
       " 'consequence',\n",
       " 'of',\n",
       " 'her',\n",
       " 'sister',\n",
       " \"'s\",\n",
       " 'marriage',\n",
       " ',',\n",
       " 'been',\n",
       " 'mistress',\n",
       " 'of',\n",
       " 'his',\n",
       " 'house',\n",
       " 'from',\n",
       " 'a',\n",
       " 'very',\n",
       " 'early',\n",
       " 'period',\n",
       " '.',\n",
       " 'Her',\n",
       " 'mother',\n",
       " 'had',\n",
       " 'died',\n",
       " 'too',\n",
       " 'long',\n",
       " 'ago',\n",
       " 'for',\n",
       " 'her',\n",
       " 'to',\n",
       " 'have',\n",
       " 'more',\n",
       " 'than',\n",
       " 'an',\n",
       " 'indistinct',\n",
       " 'remembrance',\n",
       " 'of',\n",
       " 'her',\n",
       " 'caresses',\n",
       " ';',\n",
       " 'and',\n",
       " 'her',\n",
       " 'place',\n",
       " 'had',\n",
       " 'been',\n",
       " 'supplied',\n",
       " 'by',\n",
       " 'an',\n",
       " 'excellent',\n",
       " 'woman',\n",
       " 'as',\n",
       " 'governess',\n",
       " ',',\n",
       " 'who',\n",
       " 'had',\n",
       " 'fallen',\n",
       " 'little',\n",
       " 'short',\n",
       " 'of',\n",
       " 'a',\n",
       " 'mother',\n",
       " 'in',\n",
       " 'affection',\n",
       " '.',\n",
       " 'Sixteen',\n",
       " 'years',\n",
       " 'had',\n",
       " 'Miss',\n",
       " 'Taylor',\n",
       " 'been',\n",
       " 'in',\n",
       " 'Mr.',\n",
       " 'Woodhouse',\n",
       " \"'s\",\n",
       " 'family',\n",
       " ',',\n",
       " 'less',\n",
       " 'as',\n",
       " 'a',\n",
       " 'governess',\n",
       " 'than',\n",
       " 'a',\n",
       " 'friend',\n",
       " ',',\n",
       " 'very',\n",
       " 'fond',\n",
       " 'of',\n",
       " 'both',\n",
       " 'daughters',\n",
       " ',',\n",
       " 'but',\n",
       " 'particularly',\n",
       " 'of',\n",
       " 'Emma',\n",
       " '.',\n",
       " 'Between',\n",
       " '_them_',\n",
       " 'it',\n",
       " 'was',\n",
       " 'more',\n",
       " 'the',\n",
       " 'intimacy',\n",
       " 'of',\n",
       " 'sisters',\n",
       " '.',\n",
       " 'Even',\n",
       " 'before',\n",
       " 'Miss',\n",
       " 'Taylor',\n",
       " 'had',\n",
       " 'ceased',\n",
       " 'to',\n",
       " 'hold',\n",
       " 'the',\n",
       " 'nominal',\n",
       " 'office',\n",
       " 'of',\n",
       " 'governess',\n",
       " ',',\n",
       " 'the',\n",
       " 'mildness',\n",
       " 'o']"
      ]
     },
     "execution_count": 16,
     "metadata": {},
     "output_type": "execute_result"
    }
   ],
   "source": [
    "word_tokenize(emma_raw[:1000])"
   ]
  },
  {
   "cell_type": "code",
   "execution_count": 17,
   "id": "e85b66bb-14a9-4fba-a228-98811fe24307",
   "metadata": {},
   "outputs": [
    {
     "data": {
      "text/plain": [
       "['Emma',\n",
       " 'by',\n",
       " 'Jane',\n",
       " 'Austen',\n",
       " '1816',\n",
       " 'VOLUME',\n",
       " 'I',\n",
       " 'CHAPTER',\n",
       " 'I',\n",
       " 'Emma',\n",
       " 'Woodhouse',\n",
       " 'handsome',\n",
       " 'clever',\n",
       " 'and',\n",
       " 'rich',\n",
       " 'with',\n",
       " 'a',\n",
       " 'comfortable',\n",
       " 'home',\n",
       " 'and',\n",
       " 'happy',\n",
       " 'disposition',\n",
       " 'seemed',\n",
       " 'to',\n",
       " 'unite',\n",
       " 'some',\n",
       " 'of',\n",
       " 'the',\n",
       " 'best',\n",
       " 'blessings',\n",
       " 'of',\n",
       " 'existence',\n",
       " 'and',\n",
       " 'had',\n",
       " 'lived',\n",
       " 'nearly',\n",
       " 'twenty',\n",
       " 'one',\n",
       " 'years',\n",
       " 'in',\n",
       " 'the',\n",
       " 'world',\n",
       " 'with',\n",
       " 'very',\n",
       " 'little',\n",
       " 'to',\n",
       " 'distress',\n",
       " 'or',\n",
       " 'vex',\n",
       " 'her',\n",
       " 'She',\n",
       " 'was',\n",
       " 'the',\n",
       " 'youngest',\n",
       " 'of',\n",
       " 'the',\n",
       " 'two',\n",
       " 'daughters',\n",
       " 'of',\n",
       " 'a',\n",
       " 'most',\n",
       " 'affectionate',\n",
       " 'indulgent',\n",
       " 'father',\n",
       " 'and',\n",
       " 'had',\n",
       " 'in',\n",
       " 'consequence',\n",
       " 'of',\n",
       " 'her',\n",
       " 'sister',\n",
       " 's',\n",
       " 'marriage',\n",
       " 'been',\n",
       " 'mistress',\n",
       " 'of',\n",
       " 'his',\n",
       " 'house',\n",
       " 'from',\n",
       " 'a',\n",
       " 'very',\n",
       " 'early',\n",
       " 'period',\n",
       " 'Her',\n",
       " 'mother',\n",
       " 'had',\n",
       " 'died',\n",
       " 't']"
      ]
     },
     "execution_count": 17,
     "metadata": {},
     "output_type": "execute_result"
    }
   ],
   "source": [
    "retokenize = RegexpTokenizer(\"[\\w]+\") # 문자로 시작하는 것들. 쉼표 같은 특수문자 X\n",
    "retokenize.tokenize(emma_raw[:500])"
   ]
  },
  {
   "cell_type": "code",
   "execution_count": 29,
   "id": "7f560a13-84fe-4f08-aaff-ae53e9edc9bc",
   "metadata": {},
   "outputs": [],
   "source": [
    "from nltk.stem import PorterStemmer, WordNetLemmatizer"
   ]
  },
  {
   "cell_type": "code",
   "execution_count": 30,
   "id": "f205d3c3-0077-46ac-8629-4b26b2bd58b1",
   "metadata": {},
   "outputs": [],
   "source": [
    "st1 = PorterStemmer()\n",
    "lm = WordNetLemmatizer()"
   ]
  },
  {
   "cell_type": "code",
   "execution_count": 26,
   "id": "119472e6-ec64-414e-ae45-386c8814ce63",
   "metadata": {},
   "outputs": [],
   "source": [
    "words = [\"fly\", \"flies\", \"flying\", \"flew\", \"flown\"]"
   ]
  },
  {
   "cell_type": "code",
   "execution_count": 27,
   "id": "58f9c284-2086-402b-9dc1-dd968f446903",
   "metadata": {},
   "outputs": [
    {
     "name": "stdout",
     "output_type": "stream",
     "text": [
      "fli\n",
      "fli\n",
      "fli\n",
      "flew\n",
      "flown\n"
     ]
    }
   ],
   "source": [
    "for w in words:\n",
    "    print(st1.stem(w))"
   ]
  },
  {
   "cell_type": "code",
   "execution_count": 28,
   "id": "44496a16-c9a4-4f0b-9e5e-5324af8b01c7",
   "metadata": {},
   "outputs": [
    {
     "data": {
      "text/plain": [
       "['fli', 'fli', 'fli', 'flew', 'flown']"
      ]
     },
     "execution_count": 28,
     "metadata": {},
     "output_type": "execute_result"
    }
   ],
   "source": [
    "[st1.stem(w) for w in words]"
   ]
  },
  {
   "cell_type": "code",
   "execution_count": 31,
   "id": "9ed7bb32-ebb4-4db4-8610-a355e20155ee",
   "metadata": {},
   "outputs": [
    {
     "data": {
      "text/plain": [
       "['fly', 'fly', 'fly', 'fly', 'fly']"
      ]
     },
     "execution_count": 31,
     "metadata": {},
     "output_type": "execute_result"
    }
   ],
   "source": [
    "[lm.lemmatize(w, pos='v') for w in words] # 동사원형 찾기"
   ]
  },
  {
   "cell_type": "code",
   "execution_count": 34,
   "id": "c9d6409f-0b6e-4d31-8950-5d26975e11cc",
   "metadata": {},
   "outputs": [
    {
     "name": "stdout",
     "output_type": "stream",
     "text": [
      "VB: verb, base form\n",
      "    ask assemble assess assign assume atone attention avoid bake balkanize\n",
      "    bank begin behold believe bend benefit bevel beware bless boil bomb\n",
      "    boost brace break bring broil brush build ...\n"
     ]
    }
   ],
   "source": [
    "nltk.help.upenn_tagset(\"VB\")"
   ]
  },
  {
   "cell_type": "code",
   "execution_count": 33,
   "id": "78d3ea2a-4b18-450a-b51f-c1301b82280b",
   "metadata": {},
   "outputs": [
    {
     "data": {
      "text/plain": [
       "[('Emma', 'NNP'),\n",
       " ('refuesed', 'VBD'),\n",
       " ('to', 'TO'),\n",
       " ('permit', 'VB'),\n",
       " ('us', 'PRP'),\n",
       " ('to', 'TO'),\n",
       " ('obtain', 'VB'),\n",
       " ('the', 'DT'),\n",
       " ('refuse', 'NN'),\n",
       " ('permit', 'NN')]"
      ]
     },
     "execution_count": 33,
     "metadata": {},
     "output_type": "execute_result"
    }
   ],
   "source": [
    "# 품사 확인\n",
    "from nltk.tag import pos_tag\n",
    "sentence = \"Emma refuesed to permit us to obtain the refuse permit\"\n",
    "tagged_list = pos_tag(word_tokenize(sentence))\n",
    "tagged_list"
   ]
  },
  {
   "cell_type": "code",
   "execution_count": 37,
   "id": "92aa15c0-acf6-4c9c-8c95-1f408ec460d5",
   "metadata": {},
   "outputs": [],
   "source": [
    "from nltk import Text"
   ]
  },
  {
   "cell_type": "code",
   "execution_count": 38,
   "id": "581b140b-0331-4bd7-8d7a-3ba06f5f2d78",
   "metadata": {},
   "outputs": [
    {
     "data": {
      "text/plain": [
       "<Text: Emma by Jane Austen 1816 VOLUME I CHAPTER...>"
      ]
     },
     "execution_count": 38,
     "metadata": {},
     "output_type": "execute_result"
    }
   ],
   "source": [
    "text = Text(retokenize.tokenize(emma_raw))\n",
    "text"
   ]
  },
  {
   "cell_type": "code",
   "execution_count": 39,
   "id": "ad16e282-fa6a-4ae6-8ed6-ec9588b52f77",
   "metadata": {},
   "outputs": [
    {
     "data": {
      "image/png": "[encoded data removed]",
      "text/plain": [
       "<Figure size 432x288 with 1 Axes>"
      ]
     },
     "metadata": {
      "needs_background": "light"
     },
     "output_type": "display_data"
    }
   ],
   "source": [
    "text.plot(20)"
   ]
  },
  {
   "cell_type": "code",
   "execution_count": 40,
   "id": "c597590b-43e6-4b93-b5f6-0ba4ef2e2e06",
   "metadata": {},
   "outputs": [
    {
     "data": {
      "image/png": "[encoded data removed]",
      "text/plain": [
       "<Figure size 432x288 with 1 Axes>"
      ]
     },
     "metadata": {
      "needs_background": "light"
     },
     "output_type": "display_data"
    }
   ],
   "source": [
    "text.dispersion_plot([\"Emma\", \"Frank\", \"Robert\"])"
   ]
  },
  {
   "cell_type": "code",
   "execution_count": null,
   "id": "e3a3bed6-516d-4de8-a184-c19f000c02e1",
   "metadata": {},
   "outputs": [],
   "source": []
  }
 ],
 "metadata": {
  "kernelspec": {
   "display_name": "Python 3",
   "language": "python",
   "name": "python3"
  },
  "language_info": {
   "codemirror_mode": {
    "name": "ipython",
    "version": 3
   },
   "file_extension": ".py",
   "mimetype": "text/x-python",
   "name": "python",
   "nbconvert_exporter": "python",
   "pygments_lexer": "ipython3",
   "version": "3.8.8"
  }
 },
 "nbformat": 4,
 "nbformat_minor": 5
}
