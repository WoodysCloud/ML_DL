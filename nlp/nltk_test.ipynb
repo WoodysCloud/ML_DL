{
 "cells": [
  {
   "cell_type": "code",
   "execution_count": 20,
   "id": "305e4974-8abf-46cd-9e07-a2e1f7ea0434",
   "metadata": {},
   "outputs": [],
   "source": [
    "import nltk"
   ]
  },
  {
   "cell_type": "code",
   "execution_count": 21,
   "id": "a27d5a44-f46a-48a1-b049-01af5fdbc88a",
   "metadata": {},
   "outputs": [],
   "source": [
    "# nltk.download()"
   ]
  },
  {
   "cell_type": "code",
   "execution_count": 22,
   "id": "4d3fc994-a7f8-4b9a-b3b1-3228b0061c8b",
   "metadata": {},
   "outputs": [],
   "source": [
    "import pandas as pd"
   ]
  },
  {
   "cell_type": "code",
   "execution_count": 23,
   "id": "3cbbd21b-0503-428b-8aa3-58346958461c",
   "metadata": {},
   "outputs": [],
   "source": [
    "import matplotlib.pyplot as plt\n",
    "%matplotlib inline"
   ]
  },
  {
   "cell_type": "code",
   "execution_count": 24,
   "id": "028e0cc9-48d1-48c9-b43f-1eb5179c6a4a",
   "metadata": {},
   "outputs": [],
   "source": [
    "file = open('bts.txt', encoding='utf8')\n",
    "a = file.read()"
   ]
  },
  {
   "cell_type": "code",
   "execution_count": 25,
   "id": "e35057ea-6ecc-4c7e-89c0-8eb7dace7b66",
   "metadata": {},
   "outputs": [
    {
     "data": {
      "text/plain": [
       "'Newsmaker BTS win big at MAMA with nine trophies\\ntop honors\\n2021-12-12 11:25\\n2021 Mnet Asian Music Awards takes place in CJ ENM Content Studio in Paju, Gyeonggi Province, on Saturday. (CJ\\nENM)\\nBTS ruled the night at 2021 Mnet Asian Music Awards on Saturday even without\\nattending as the K-pop megastars nabbed a total of nine trophies including four grand\\nprizes.\\nThe event held at CJ ENM Content Studio in Paju Gyeonggi Province was conducted in\\nperson for the first time in two years since the COVID-19 outbreak.\\nAfter making history at the American Music Awards last month as the first Asian act to\\ngrab the top honor BTS extended their winning streak taking home all four main prizes\\nof 2021 MAMA. The septet was named artist of the year worldwide icon of the year won\\nalbum of the year with BE and song of the year with Butter. This is the third straight\\nyear that BTS has swept all four top honors at MAMA since 2019.\\nThe band also bagged best music video best male group best dance performance male\\nworldwide fans choice top10 and TikTok favorite moment.\\nWith the members on vacation the group delivered their acceptance speech through a\\ntaped video message.\\nThis year we endeavored to make various musical attempts in order to create sound\\nthat could console and empower people who are enduring a hard time. Were grateful\\n12/14/21, 10:34 AM [Newsmaker] BTS win big at MAMA with nine trophies, top honors-프린트화면\\nwww.koreaherald.com/common/newsprint.php?ud=20211212000040 2/6\\nthat the music in which we poured our hearts is being enjoyed and empathized by\\nothers the group said offering gratitude to their fans Army\\nHybe founder and Chairman Bang Sihyuk the mastermind behind the success of the\\ngroup was honored as best executive producer of the year\\n2021 Mnet Asian Music Awards takes place in CJ ENM Content Studio in Paju, Gyeonggi Province, on Saturday. (CJ\\nENM)\\n12/14/21, 10:34 AM [Newsmaker] BTS win big at MAMA with nine trophies, top honors-프린트화면\\nwww.koreaherald.com/common/newsprint.php?ud=20211212000040 3/6\\n2021 Mnet Asian Music Awards takes place in CJ ENM Content Studio in Paju, Gyeonggi Province, on Saturday. (CJ\\nENM)\\nNew artist of the year awards went to aespa and Enhypen. aespa who was also named\\nthe best dance performance female group said Its our first time receiving an award in\\nfront of our fans. Rookie awards can only be won once after debut and were thrilled to\\naccept it in our fans presence.\\nTwice won the best female group title Blackpinks Rosé the best dance performance\\nsolo and Exos Baekhyun the best male artist. IU scooped three trophies best female\\nartist best vocal performance and best collaboration for her duet song Nakka with\\nAkmu.\\nThis years edition of MAMA took place under the slogan Make Some Noise to\\ncelebrate the return of audiences to the music scene in almost two years. Kpop diva Lee\\nHyori went onstage as the first female host of the annual awards since MAMAs launch in\\n2009. Lee teamed up with crew leaders of popular Mnet dance show Street Woman\\nFighter to decorate the nights finale stage.\\nA starstudded lineup of performers including Tomorrow X Together Itzy NCT U\\nEnhypen Ateez and Stray Kids came together Saturday to put on a jampacked show for\\nthe audiences. British singersongwriter Ed Sheeran joined the show through pre\\nrecorded footage while 11piece boy band Wanna One made a longanticipated reunion\\non stage in two years.\\n12/14/21, 10:34 AM [Newsmaker] BTS win big at MAMA with nine trophies, top honors-프린트화면\\nwww.koreaherald.com/common/newsprint.php?ud=20211212000040 4/6\\n2021 Mnet Asian Music Awards takes place in CJ ENM Content Studio in Paju, Gyeonggi Province, on Saturday. (CJ\\nENM)\\n2021 Mnet Asian Music Awards takes place in CJ ENM Content Studio in Paju, Gyeonggi Province, on Saturday. (CJ\\n12/14/21, 10:34 AM [Newsmaker] BTS win big at MAMA with nine trophies, top honors-프린트화면\\nwww.koreaherald.com/common/newsprint.php?ud=20211212000040 5/6\\nENM)\\n2021 Mnet Asian Music Awards takes place in CJ ENM Content Studio in Paju, Gyeonggi Province, on Saturday. (CJ\\nENM)\\nMAMA also invited some of the biggest names in entertainment to present the awards,\\nincluding stars Lee Jungjae and Ha Sungtae of the sensational Netflix series Squid\\nGame, actor Song Joongki, singeractor Rain and members of Girls Generation, Tiffany\\nYoung and Choi Sooyoung\\nOrganizer CJ ENM joined hands with Apple Music this year to incorporate the streaming\\nplatforms data as part of the judging criteria and to allow the public to vote in\\ncategories such as worldwide fans choice top10 and worldwide icon of the year Those\\nmaking the fans top 10 list include Stray Kids, NCT Dream, NCT 127, Enhypen, TXT, BTS,\\nBlackpinks Lisa, Seventeen, Treasure and Twice\\nKicking off in 1999 as the Mnet Video Music Awards, the event was renamed as MAMA in\\n2009 to expand its outreach in Asia Before the global COVID19 pandemic, MAMA was\\nheld annually in various locations around Asia, including Hong Kong, Singapore and\\nTokyo This year, the event was livestreamed to over 200 countries online'"
      ]
     },
     "execution_count": 25,
     "metadata": {},
     "output_type": "execute_result"
    }
   ],
   "source": [
    "a"
   ]
  },
  {
   "cell_type": "code",
   "execution_count": 26,
   "id": "496988f8-ef76-46a6-9948-25f2d1933188",
   "metadata": {},
   "outputs": [
    {
     "name": "stdout",
     "output_type": "stream",
     "text": [
      "12/14/21\n",
      "\n",
      "It\n",
      "\n",
      "so\n",
      "\n",
      "far\n",
      "\n",
      "A\n",
      "\n",
      "The\n",
      "\n",
      "in\n",
      "\n",
      "of\n",
      "\n",
      "on\n",
      "\n",
      "until\n",
      "\n",
      "2021-12-12\n",
      "\n",
      "the\n",
      "\n",
      "as\n",
      "\n",
      "for\n",
      "\n",
      "to\n",
      "\n",
      "their\n",
      "\n",
      "year\n",
      "\n",
      "also\n",
      "\n",
      "are\n",
      "\n",
      "who\n",
      "\n",
      "am\n",
      "\n",
      "our\n",
      "\n",
      "honors-프린트화면\n",
      "\n",
      "[newsmaker]\n",
      "\n",
      "wwwkoreaheraldcom/common/newsprintphp?ud=20211212000040\n",
      "\n",
      "by\n",
      "\n",
      "being\n",
      "\n",
      "an\n",
      "\n",
      "2021\n",
      "\n",
      "at\n",
      "\n"
     ]
    }
   ],
   "source": [
    "for line in open('stopwords.txt'):\n",
    "    print(line)"
   ]
  },
  {
   "cell_type": "code",
   "execution_count": 27,
   "id": "5b35d9b9-75cd-4b43-8d77-e7f2576faa8d",
   "metadata": {},
   "outputs": [
    {
     "name": "stdout",
     "output_type": "stream",
     "text": [
      "12/14/21\n",
      "It\n",
      "so\n",
      "far\n",
      "A\n",
      "The\n",
      "in\n",
      "of\n",
      "on\n",
      "until\n",
      "2021-12-12\n",
      "the\n",
      "as\n",
      "for\n",
      "to\n",
      "their\n",
      "year\n",
      "also\n",
      "are\n",
      "who\n",
      "am\n",
      "our\n",
      "honors-프린트화면\n",
      "[newsmaker]\n",
      "wwwkoreaheraldcom/common/newsprintphp?ud=20211212000040\n",
      "by\n",
      "being\n",
      "an\n",
      "2021\n",
      "at\n"
     ]
    }
   ],
   "source": [
    "for line in open('stopwords.txt'):\n",
    "    print(line.strip()) # 엔터 공백 제거"
   ]
  },
  {
   "cell_type": "code",
   "execution_count": 28,
   "id": "462e5559-2fad-4256-91c5-598bee5edd7e",
   "metadata": {},
   "outputs": [],
   "source": [
    "# collections\n",
    "# list(순서), dictionary(키:값), tuple(순서, 읽기전용), set(중복x)"
   ]
  },
  {
   "cell_type": "code",
   "execution_count": 29,
   "id": "2c734126-eba9-498f-806b-3298b0a7d2ba",
   "metadata": {},
   "outputs": [
    {
     "data": {
      "text/plain": [
       "{'12/14/21',\n",
       " '2021',\n",
       " '2021-12-12',\n",
       " 'A',\n",
       " 'It',\n",
       " 'The',\n",
       " '[newsmaker]',\n",
       " 'also',\n",
       " 'am',\n",
       " 'an',\n",
       " 'are',\n",
       " 'as',\n",
       " 'at',\n",
       " 'being',\n",
       " 'by',\n",
       " 'far',\n",
       " 'for',\n",
       " 'honors-프린트화면',\n",
       " 'in',\n",
       " 'of',\n",
       " 'on',\n",
       " 'our',\n",
       " 'so',\n",
       " 'the',\n",
       " 'their',\n",
       " 'to',\n",
       " 'until',\n",
       " 'who',\n",
       " 'wwwkoreaheraldcom/common/newsprintphp?ud=20211212000040',\n",
       " 'year'}"
      ]
     },
     "execution_count": 29,
     "metadata": {},
     "output_type": "execute_result"
    }
   ],
   "source": [
    "stopwords = set(line.strip() for line in open('stopwords.txt')) # 익명함수, \"클러저\"\n",
    "stopwords # set구조: {}"
   ]
  },
  {
   "cell_type": "code",
   "execution_count": 39,
   "id": "f6f69fbc-3208-4257-855a-43f5b62282f4",
   "metadata": {},
   "outputs": [
    {
     "data": {
      "text/plain": [
       "{'12/14/21',\n",
       " '2021',\n",
       " '2021-12-12',\n",
       " 'A',\n",
       " 'It',\n",
       " 'The',\n",
       " '[newsmaker]',\n",
       " 'also',\n",
       " 'am',\n",
       " 'an',\n",
       " 'and',\n",
       " 'are',\n",
       " 'as',\n",
       " 'at',\n",
       " 'being',\n",
       " 'by',\n",
       " 'far',\n",
       " 'for',\n",
       " 'honors-프린트화면',\n",
       " 'in',\n",
       " 'mr',\n",
       " 'mrs',\n",
       " 'of',\n",
       " 'on',\n",
       " 'one',\n",
       " 'our',\n",
       " 'so',\n",
       " 'the',\n",
       " 'their',\n",
       " 'to',\n",
       " 'until',\n",
       " 'who',\n",
       " 'with',\n",
       " 'wwwkoreaheraldcom/common/newsprintphp?ud=20211212000040',\n",
       " 'year'}"
      ]
     },
     "execution_count": 39,
     "metadata": {},
     "output_type": "execute_result"
    }
   ],
   "source": [
    "stopwords = stopwords.union(set(['mr', 'mrs', 'one', 'and', 'with']))\n",
    "stopwords"
   ]
  },
  {
   "cell_type": "code",
   "execution_count": 40,
   "id": "2b6bc510-36f3-4f38-b7d8-f33ae862a1d8",
   "metadata": {},
   "outputs": [],
   "source": [
    "wordcount = {}\n",
    "for word in a.lower().split(): # 글자가 있는지 없는지만 보고 싶으므로 다 소문자로 변경처리(일반적)\n",
    "    word = word.replace(\".\", \"\")\n",
    "    word = word.replace(\",\", \"\")\n",
    "    word = word.replace(\":\", \"\")\n",
    "    word = word.replace(\"\\\"\", \"\")\n",
    "    word = word.replace(\"*\", \"\")\n",
    "    \n",
    "    if word not in stopwords:\n",
    "        if word not in wordcount: # 없다\n",
    "            wordcount[word] = 1\n",
    "        else: # 이미 있다\n",
    "            wordcount[word] += 1"
   ]
  },
  {
   "cell_type": "code",
   "execution_count": 41,
   "id": "541befeb-077b-40d3-933b-d52ea84e3351",
   "metadata": {},
   "outputs": [
    {
     "data": {
      "text/plain": [
       "{'newsmaker': 1,\n",
       " 'bts': 9,\n",
       " 'win': 5,\n",
       " 'big': 5,\n",
       " 'mama': 11,\n",
       " 'nine': 6,\n",
       " 'trophies': 7,\n",
       " 'top': 8,\n",
       " 'honors': 2,\n",
       " '1125': 1,\n",
       " 'mnet': 9,\n",
       " 'asian': 8,\n",
       " 'music': 13,\n",
       " 'awards': 13,\n",
       " 'takes': 6,\n",
       " 'place': 7,\n",
       " 'cj': 8,\n",
       " 'enm': 8,\n",
       " 'content': 7,\n",
       " 'studio': 7,\n",
       " 'paju': 7,\n",
       " 'gyeonggi': 7,\n",
       " 'province': 7,\n",
       " 'saturday': 8,\n",
       " '(cj': 6,\n",
       " 'enm)': 6,\n",
       " 'ruled': 1,\n",
       " 'night': 1,\n",
       " 'even': 1,\n",
       " 'without': 1,\n",
       " 'attending': 1,\n",
       " 'k-pop': 1,\n",
       " 'megastars': 1,\n",
       " 'nabbed': 1,\n",
       " 'a': 6,\n",
       " 'total': 1,\n",
       " 'including': 4,\n",
       " 'four': 3,\n",
       " 'grand': 1,\n",
       " 'prizes': 2,\n",
       " 'event': 3,\n",
       " 'held': 2,\n",
       " 'was': 7,\n",
       " 'conducted': 1,\n",
       " 'person': 1,\n",
       " 'first': 4,\n",
       " 'time': 3,\n",
       " 'two': 3,\n",
       " 'years': 4,\n",
       " 'since': 3,\n",
       " 'covid-19': 1,\n",
       " 'outbreak': 1,\n",
       " 'after': 2,\n",
       " 'making': 2,\n",
       " 'history': 1,\n",
       " 'american': 1,\n",
       " 'last': 1,\n",
       " 'month': 1,\n",
       " 'act': 1,\n",
       " 'grab': 1,\n",
       " 'honor': 1,\n",
       " 'extended': 1,\n",
       " 'winning': 1,\n",
       " 'streak': 1,\n",
       " 'taking': 1,\n",
       " 'home': 1,\n",
       " 'all': 2,\n",
       " 'main': 1,\n",
       " 'septet': 1,\n",
       " 'named': 2,\n",
       " 'artist': 4,\n",
       " 'worldwide': 4,\n",
       " 'icon': 2,\n",
       " 'won': 3,\n",
       " 'album': 1,\n",
       " 'be': 2,\n",
       " 'song': 3,\n",
       " 'butter': 1,\n",
       " 'this': 5,\n",
       " 'is': 2,\n",
       " 'third': 1,\n",
       " 'straight': 1,\n",
       " 'that': 3,\n",
       " 'has': 1,\n",
       " 'swept': 1,\n",
       " '2019': 1,\n",
       " 'band': 2,\n",
       " 'bagged': 1,\n",
       " 'best': 11,\n",
       " 'video': 3,\n",
       " 'male': 3,\n",
       " 'group': 6,\n",
       " 'dance': 4,\n",
       " 'performance': 4,\n",
       " 'fans': 6,\n",
       " 'choice': 2,\n",
       " 'top10': 2,\n",
       " 'tiktok': 1,\n",
       " 'favorite': 1,\n",
       " 'moment': 1,\n",
       " 'members': 2,\n",
       " 'vacation': 1,\n",
       " 'delivered': 1,\n",
       " 'acceptance': 1,\n",
       " 'speech': 1,\n",
       " 'through': 2,\n",
       " 'taped': 1,\n",
       " 'message': 1,\n",
       " 'we': 2,\n",
       " 'endeavored': 1,\n",
       " 'make': 2,\n",
       " 'various': 2,\n",
       " 'musical': 1,\n",
       " 'attempts': 1,\n",
       " 'order': 1,\n",
       " 'create': 1,\n",
       " 'sound': 1,\n",
       " 'could': 1,\n",
       " 'console': 1,\n",
       " 'empower': 1,\n",
       " 'people': 1,\n",
       " 'enduring': 1,\n",
       " 'hard': 1,\n",
       " 'were': 2,\n",
       " 'grateful': 1,\n",
       " '1034': 4,\n",
       " '2/6': 1,\n",
       " 'which': 1,\n",
       " 'poured': 1,\n",
       " 'hearts': 1,\n",
       " 'enjoyed': 1,\n",
       " 'empathized': 1,\n",
       " 'others': 1,\n",
       " 'said': 2,\n",
       " 'offering': 1,\n",
       " 'gratitude': 1,\n",
       " 'army': 1,\n",
       " 'hybe': 1,\n",
       " 'founder': 1,\n",
       " 'chairman': 1,\n",
       " 'bang': 1,\n",
       " 'sihyuk': 1,\n",
       " 'mastermind': 1,\n",
       " 'behind': 1,\n",
       " 'success': 1,\n",
       " 'honored': 1,\n",
       " 'executive': 1,\n",
       " 'producer': 1,\n",
       " '3/6': 1,\n",
       " 'new': 1,\n",
       " 'went': 2,\n",
       " 'aespa': 2,\n",
       " 'enhypen': 3,\n",
       " 'female': 4,\n",
       " 'its': 2,\n",
       " 'receiving': 1,\n",
       " 'award': 1,\n",
       " 'front': 1,\n",
       " 'rookie': 1,\n",
       " 'can': 1,\n",
       " 'only': 1,\n",
       " 'once': 1,\n",
       " 'debut': 1,\n",
       " 'thrilled': 1,\n",
       " 'accept': 1,\n",
       " 'it': 1,\n",
       " 'presence': 1,\n",
       " 'twice': 2,\n",
       " 'title': 1,\n",
       " 'blackpinks': 2,\n",
       " 'rosé': 1,\n",
       " 'solo': 1,\n",
       " 'exos': 1,\n",
       " 'baekhyun': 1,\n",
       " 'iu': 1,\n",
       " 'scooped': 1,\n",
       " 'three': 1,\n",
       " 'vocal': 1,\n",
       " 'collaboration': 1,\n",
       " 'her': 1,\n",
       " 'duet': 1,\n",
       " 'nakka': 1,\n",
       " 'akmu': 1,\n",
       " 'edition': 1,\n",
       " 'took': 1,\n",
       " 'under': 1,\n",
       " 'slogan': 1,\n",
       " 'some': 2,\n",
       " 'noise': 1,\n",
       " 'celebrate': 1,\n",
       " 'return': 1,\n",
       " 'audiences': 2,\n",
       " 'scene': 1,\n",
       " 'almost': 1,\n",
       " 'kpop': 1,\n",
       " 'diva': 1,\n",
       " 'lee': 3,\n",
       " 'hyori': 1,\n",
       " 'onstage': 1,\n",
       " 'host': 1,\n",
       " 'annual': 1,\n",
       " 'mamas': 1,\n",
       " 'launch': 1,\n",
       " '2009': 2,\n",
       " 'teamed': 1,\n",
       " 'up': 1,\n",
       " 'crew': 1,\n",
       " 'leaders': 1,\n",
       " 'popular': 1,\n",
       " 'show': 3,\n",
       " 'street': 1,\n",
       " 'woman': 1,\n",
       " 'fighter': 1,\n",
       " 'decorate': 1,\n",
       " 'nights': 1,\n",
       " 'finale': 1,\n",
       " 'stage': 2,\n",
       " 'starstudded': 1,\n",
       " 'lineup': 1,\n",
       " 'performers': 1,\n",
       " 'tomorrow': 1,\n",
       " 'x': 1,\n",
       " 'together': 2,\n",
       " 'itzy': 1,\n",
       " 'nct': 3,\n",
       " 'u': 1,\n",
       " 'ateez': 1,\n",
       " 'stray': 2,\n",
       " 'kids': 2,\n",
       " 'came': 1,\n",
       " 'put': 1,\n",
       " 'jampacked': 1,\n",
       " 'british': 1,\n",
       " 'singersongwriter': 1,\n",
       " 'ed': 1,\n",
       " 'sheeran': 1,\n",
       " 'joined': 2,\n",
       " 'pre': 1,\n",
       " 'recorded': 1,\n",
       " 'footage': 1,\n",
       " 'while': 1,\n",
       " '11piece': 1,\n",
       " 'boy': 1,\n",
       " 'wanna': 1,\n",
       " 'made': 1,\n",
       " 'longanticipated': 1,\n",
       " 'reunion': 1,\n",
       " '4/6': 1,\n",
       " '5/6': 1,\n",
       " 'invited': 1,\n",
       " 'biggest': 1,\n",
       " 'names': 1,\n",
       " 'entertainment': 1,\n",
       " 'present': 1,\n",
       " 'stars': 1,\n",
       " 'jungjae': 1,\n",
       " 'ha': 1,\n",
       " 'sungtae': 1,\n",
       " 'sensational': 1,\n",
       " 'netflix': 1,\n",
       " 'series': 1,\n",
       " 'squid': 1,\n",
       " 'game': 1,\n",
       " 'actor': 1,\n",
       " 'joongki': 1,\n",
       " 'singeractor': 1,\n",
       " 'rain': 1,\n",
       " 'girls': 1,\n",
       " 'generation': 1,\n",
       " 'tiffany': 1,\n",
       " 'young': 1,\n",
       " 'choi': 1,\n",
       " 'sooyoung': 1,\n",
       " 'organizer': 1,\n",
       " 'hands': 1,\n",
       " 'apple': 1,\n",
       " 'incorporate': 1,\n",
       " 'streaming': 1,\n",
       " 'platforms': 1,\n",
       " 'data': 1,\n",
       " 'part': 1,\n",
       " 'judging': 1,\n",
       " 'criteria': 1,\n",
       " 'allow': 1,\n",
       " 'public': 1,\n",
       " 'vote': 1,\n",
       " 'categories': 1,\n",
       " 'such': 1,\n",
       " 'those': 1,\n",
       " '10': 1,\n",
       " 'list': 1,\n",
       " 'include': 1,\n",
       " 'dream': 1,\n",
       " '127': 1,\n",
       " 'txt': 1,\n",
       " 'lisa': 1,\n",
       " 'seventeen': 1,\n",
       " 'treasure': 1,\n",
       " 'kicking': 1,\n",
       " 'off': 1,\n",
       " '1999': 1,\n",
       " 'renamed': 1,\n",
       " 'expand': 1,\n",
       " 'outreach': 1,\n",
       " 'asia': 2,\n",
       " 'before': 1,\n",
       " 'global': 1,\n",
       " 'covid19': 1,\n",
       " 'pandemic': 1,\n",
       " 'annually': 1,\n",
       " 'locations': 1,\n",
       " 'around': 1,\n",
       " 'hong': 1,\n",
       " 'kong': 1,\n",
       " 'singapore': 1,\n",
       " 'tokyo': 1,\n",
       " 'livestreamed': 1,\n",
       " 'over': 1,\n",
       " '200': 1,\n",
       " 'countries': 1,\n",
       " 'online': 1}"
      ]
     },
     "execution_count": 41,
     "metadata": {},
     "output_type": "execute_result"
    }
   ],
   "source": [
    "wordcount"
   ]
  },
  {
   "cell_type": "code",
   "execution_count": 42,
   "id": "e8190952-75f6-4f1a-a6d4-25954af7cddd",
   "metadata": {},
   "outputs": [],
   "source": [
    "import collections"
   ]
  },
  {
   "cell_type": "code",
   "execution_count": 43,
   "id": "e62d8f63-1dcf-4e38-9627-07bf6a7ca314",
   "metadata": {},
   "outputs": [],
   "source": [
    "# ordering => list 2개로 나눠서... => 객체 존재\n",
    "# 순서대로 counting해주는 객체 => \"collections\"\n",
    "word_counter = collections.Counter(wordcount) "
   ]
  },
  {
   "cell_type": "code",
   "execution_count": 44,
   "id": "1306aa41-f0fa-4825-92bd-527e7142429a",
   "metadata": {},
   "outputs": [
    {
     "data": {
      "text/plain": [
       "[('music', 13),\n",
       " ('awards', 13),\n",
       " ('mama', 11),\n",
       " ('best', 11),\n",
       " ('bts', 9),\n",
       " ('mnet', 9),\n",
       " ('top', 8),\n",
       " ('asian', 8),\n",
       " ('cj', 8),\n",
       " ('enm', 8)]"
      ]
     },
     "execution_count": 44,
     "metadata": {},
     "output_type": "execute_result"
    }
   ],
   "source": [
    "word_counter.most_common(10) # (n)등까지 내림차순\n",
    "# \"and\" 너무 많음 => union 코드에 추가"
   ]
  },
  {
   "cell_type": "code",
   "execution_count": 45,
   "id": "f37bc55d-66be-4a11-a73d-602bdaf2ebba",
   "metadata": {},
   "outputs": [
    {
     "name": "stdin",
     "output_type": "stream",
     "text": [
      "how many list >>  6\n"
     ]
    },
    {
     "data": {
      "text/plain": [
       "[('music', 13),\n",
       " ('awards', 13),\n",
       " ('mama', 11),\n",
       " ('best', 11),\n",
       " ('bts', 9),\n",
       " ('mnet', 9)]"
      ]
     },
     "execution_count": 45,
     "metadata": {},
     "output_type": "execute_result"
    }
   ],
   "source": [
    "# n_print = int(input('how many list >> '))\n",
    "# word_counter.most_common(n_print)"
   ]
  },
  {
   "cell_type": "code",
   "execution_count": 46,
   "id": "f1f5c431-a3ed-4876-a062-b0033d563f26",
   "metadata": {},
   "outputs": [
    {
     "name": "stdin",
     "output_type": "stream",
     "text": [
      "how many list >>  5\n"
     ]
    },
    {
     "name": "stdout",
     "output_type": "stream",
     "text": [
      "music :  13\n",
      "awards :  13\n",
      "mama :  11\n",
      "best :  11\n",
      "bts :  9\n"
     ]
    }
   ],
   "source": [
    "# 몇등까지 보여줘. 이쁘게.\n",
    "n_print = int(input('how many list >> '))\n",
    "for word, count in word_counter.most_common(n_print):\n",
    "    print(word, ': ', count)"
   ]
  },
  {
   "cell_type": "code",
   "execution_count": 47,
   "id": "460935d1-d9ff-4985-8c1b-0aecb33797a4",
   "metadata": {},
   "outputs": [],
   "source": [
    "file.close() # RAM 날리기. CPU 최적화"
   ]
  },
  {
   "cell_type": "code",
   "execution_count": 48,
   "id": "754ddd52-cd52-4f8e-97e4-b0f5d10b3218",
   "metadata": {},
   "outputs": [
    {
     "data": {
      "text/html": [
       "<div>\n",
       "<style scoped>\n",
       "    .dataframe tbody tr th:only-of-type {\n",
       "        vertical-align: middle;\n",
       "    }\n",
       "\n",
       "    .dataframe tbody tr th {\n",
       "        vertical-align: top;\n",
       "    }\n",
       "\n",
       "    .dataframe thead th {\n",
       "        text-align: right;\n",
       "    }\n",
       "</style>\n",
       "<table border=\"1\" class=\"dataframe\">\n",
       "  <thead>\n",
       "    <tr style=\"text-align: right;\">\n",
       "      <th></th>\n",
       "      <th>Word</th>\n",
       "      <th>Count</th>\n",
       "    </tr>\n",
       "  </thead>\n",
       "  <tbody>\n",
       "    <tr>\n",
       "      <th>0</th>\n",
       "      <td>music</td>\n",
       "      <td>13</td>\n",
       "    </tr>\n",
       "    <tr>\n",
       "      <th>1</th>\n",
       "      <td>awards</td>\n",
       "      <td>13</td>\n",
       "    </tr>\n",
       "    <tr>\n",
       "      <th>2</th>\n",
       "      <td>mama</td>\n",
       "      <td>11</td>\n",
       "    </tr>\n",
       "    <tr>\n",
       "      <th>3</th>\n",
       "      <td>best</td>\n",
       "      <td>11</td>\n",
       "    </tr>\n",
       "    <tr>\n",
       "      <th>4</th>\n",
       "      <td>bts</td>\n",
       "      <td>9</td>\n",
       "    </tr>\n",
       "  </tbody>\n",
       "</table>\n",
       "</div>"
      ],
      "text/plain": [
       "     Word  Count\n",
       "0   music     13\n",
       "1  awards     13\n",
       "2    mama     11\n",
       "3    best     11\n",
       "4     bts      9"
      ]
     },
     "execution_count": 48,
     "metadata": {},
     "output_type": "execute_result"
    }
   ],
   "source": [
    "# 데이터프레임에 담기\n",
    "list = word_counter.most_common(n_print)\n",
    "df = pd.DataFrame(list, columns=['Word', 'Count'])\n",
    "df"
   ]
  },
  {
   "cell_type": "code",
   "execution_count": 51,
   "id": "b0902efe-1753-4f29-af9d-24c7e11b6e50",
   "metadata": {},
   "outputs": [
    {
     "data": {
      "text/plain": [
       "<AxesSubplot:xlabel='Word'>"
      ]
     },
     "execution_count": 51,
     "metadata": {},
     "output_type": "execute_result"
    },
    {
     "data": {
      "image/png": "[encoded data removed]",
      "text/plain": [
       "<Figure size 432x288 with 1 Axes>"
      ]
     },
     "metadata": {
      "needs_background": "light"
     },
     "output_type": "display_data"
    }
   ],
   "source": [
    "# 데이터프레임 시각화\n",
    "df.plot.bar(x='Word', y='Count')"
   ]
  },
  {
   "cell_type": "code",
   "execution_count": null,
   "id": "554744b0-526d-4c19-b798-7917f086d435",
   "metadata": {},
   "outputs": [],
   "source": []
  }
 ],
 "metadata": {
  "kernelspec": {
   "display_name": "Python 3",
   "language": "python",
   "name": "python3"
  },
  "language_info": {
   "codemirror_mode": {
    "name": "ipython",
    "version": 3
   },
   "file_extension": ".py",
   "mimetype": "text/x-python",
   "name": "python",
   "nbconvert_exporter": "python",
   "pygments_lexer": "ipython3",
   "version": "3.8.8"
  }
 },
 "nbformat": 4,
 "nbformat_minor": 5
}
