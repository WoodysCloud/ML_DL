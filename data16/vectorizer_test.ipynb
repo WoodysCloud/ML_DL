{
  "nbformat": 4,
  "nbformat_minor": 0,
  "metadata": {
    "colab": {
      "name": "vectorize_test.ipynb",
      "provenance": [],
      "collapsed_sections": []
    },
    "kernelspec": {
      "name": "python3",
      "display_name": "Python 3"
    },
    "language_info": {
      "name": "python"
    }
  },
  "cells": [
    {
      "cell_type": "code",
      "execution_count": 3,
      "metadata": {
        "id": "MBzNH5CgyT3O"
      },
      "outputs": [],
      "source": [
        "from sklearn.feature_extraction.text import TfidfVectorizer, CountVectorizer"
      ]
    },
    {
      "cell_type": "code",
      "source": [
        "# 말뭉치 => 사전 생성\n",
        "corpus = [\"you know I want your love\", \n",
        "          \"I like you\",\n",
        "          \"what should I do\", \n",
        "          \"I hate you\", \n",
        "          \"smile face\"]"
      ],
      "metadata": {
        "id": "F52NKd4tyeq5"
      },
      "execution_count": 15,
      "outputs": []
    },
    {
      "cell_type": "code",
      "source": [
        "vector = CountVectorizer()\n",
        "print(vector.fit_transform(corpus).toarray()) # 빈도수 기록 => sparse matrix\n",
        "print(vector.vocabulary_) # 알파벳 순서대로 columns 순서 정렬"
      ],
      "metadata": {
        "colab": {
          "base_uri": "https://localhost:8080/"
        },
        "id": "ZtZCjCXXy_v4",
        "outputId": "0c7d1604-b214-4733-9149-f6a6cd303a86"
      },
      "execution_count": 16,
      "outputs": [
        {
          "output_type": "stream",
          "name": "stdout",
          "text": [
            "[[0 0 0 1 0 1 0 0 1 0 1 1]\n",
            " [0 0 0 0 1 0 0 0 0 0 1 0]\n",
            " [1 0 0 0 0 0 1 0 0 1 0 0]\n",
            " [0 0 1 0 0 0 0 0 0 0 1 0]\n",
            " [0 1 0 0 0 0 0 1 0 0 0 0]]\n",
            "{'you': 10, 'know': 3, 'want': 8, 'your': 11, 'love': 5, 'like': 4, 'what': 9, 'should': 6, 'do': 0, 'hate': 2, 'smile': 7, 'face': 1}\n"
          ]
        }
      ]
    },
    {
      "cell_type": "code",
      "source": [
        "cv = CountVectorizer()"
      ],
      "metadata": {
        "id": "VoIy-sBbzuvV"
      },
      "execution_count": 17,
      "outputs": []
    },
    {
      "cell_type": "code",
      "source": [
        "# 1. 사전 만들기 => fit()\n",
        "# 2. 사전에 들어 있는 id로 인코딩 => transform()\n",
        "# 3. 1, 2를 함께 처리하고자 하는 경우 => fir_transform()"
      ],
      "metadata": {
        "id": "yW0FyClu0iCB"
      },
      "execution_count": 18,
      "outputs": []
    },
    {
      "cell_type": "code",
      "source": [
        "cv.fit_transform(corpus) # sparse matrix(희소행렬) 만들기"
      ],
      "metadata": {
        "colab": {
          "base_uri": "https://localhost:8080/"
        },
        "id": "7WFUlqel054m",
        "outputId": "daaad312-d2b7-4da8-88ef-e057d00a4e03"
      },
      "execution_count": 19,
      "outputs": [
        {
          "output_type": "execute_result",
          "data": {
            "text/plain": [
              "<5x12 sparse matrix of type '<class 'numpy.int64'>'\n",
              "\twith 14 stored elements in Compressed Sparse Row format>"
            ]
          },
          "metadata": {},
          "execution_count": 19
        }
      ]
    },
    {
      "cell_type": "code",
      "source": [
        "cv.fit_transform(corpus).toarray()"
      ],
      "metadata": {
        "colab": {
          "base_uri": "https://localhost:8080/"
        },
        "id": "L9qAx7Is050K",
        "outputId": "239bd416-e329-471d-ac5f-609a9260fab0"
      },
      "execution_count": 20,
      "outputs": [
        {
          "output_type": "execute_result",
          "data": {
            "text/plain": [
              "array([[0, 0, 0, 1, 0, 1, 0, 0, 1, 0, 1, 1],\n",
              "       [0, 0, 0, 0, 1, 0, 0, 0, 0, 0, 1, 0],\n",
              "       [1, 0, 0, 0, 0, 0, 1, 0, 0, 1, 0, 0],\n",
              "       [0, 0, 1, 0, 0, 0, 0, 0, 0, 0, 1, 0],\n",
              "       [0, 1, 0, 0, 0, 0, 0, 1, 0, 0, 0, 0]])"
            ]
          },
          "metadata": {},
          "execution_count": 20
        }
      ]
    },
    {
      "cell_type": "code",
      "source": [
        "cv.vocabulary_"
      ],
      "metadata": {
        "colab": {
          "base_uri": "https://localhost:8080/"
        },
        "id": "Vf91ByvB05tY",
        "outputId": "972d86a0-98f0-4c91-a93a-d022a19775e3"
      },
      "execution_count": 21,
      "outputs": [
        {
          "output_type": "execute_result",
          "data": {
            "text/plain": [
              "{'do': 0,\n",
              " 'face': 1,\n",
              " 'hate': 2,\n",
              " 'know': 3,\n",
              " 'like': 4,\n",
              " 'love': 5,\n",
              " 'should': 6,\n",
              " 'smile': 7,\n",
              " 'want': 8,\n",
              " 'what': 9,\n",
              " 'you': 10,\n",
              " 'your': 11}"
            ]
          },
          "metadata": {},
          "execution_count": 21
        }
      ]
    },
    {
      "cell_type": "code",
      "source": [
        "tfidf = TfidfVectorizer()"
      ],
      "metadata": {
        "id": "bLLsEXbd0Y-T"
      },
      "execution_count": 33,
      "outputs": []
    },
    {
      "cell_type": "code",
      "source": [
        "tfidf.fit(corpus)"
      ],
      "metadata": {
        "colab": {
          "base_uri": "https://localhost:8080/"
        },
        "id": "jZRoLXnQ0cjE",
        "outputId": "ceae8231-b052-4e66-aa24-88fca58c7fe0"
      },
      "execution_count": 34,
      "outputs": [
        {
          "output_type": "execute_result",
          "data": {
            "text/plain": [
              "TfidfVectorizer()"
            ]
          },
          "metadata": {},
          "execution_count": 34
        }
      ]
    },
    {
      "cell_type": "code",
      "source": [
        "tfidf = tfidf.transform(corpus)\n",
        "tfidf"
      ],
      "metadata": {
        "colab": {
          "base_uri": "https://localhost:8080/"
        },
        "id": "p6E75giw2Aaq",
        "outputId": "3bbe27d9-8ce2-4ba7-f6f5-df12f742c0a4"
      },
      "execution_count": 35,
      "outputs": [
        {
          "output_type": "execute_result",
          "data": {
            "text/plain": [
              "<5x12 sparse matrix of type '<class 'numpy.float64'>'\n",
              "\twith 14 stored elements in Compressed Sparse Row format>"
            ]
          },
          "metadata": {},
          "execution_count": 35
        }
      ]
    },
    {
      "cell_type": "code",
      "source": [
        "tfidf.toarray()"
      ],
      "metadata": {
        "colab": {
          "base_uri": "https://localhost:8080/"
        },
        "id": "pIkK5tw42Cjr",
        "outputId": "fae4c82b-0ac8-49d7-fd99-19d152c43ffc"
      },
      "execution_count": 36,
      "outputs": [
        {
          "output_type": "execute_result",
          "data": {
            "text/plain": [
              "array([[0.        , 0.        , 0.        , 0.47412465, 0.        ,\n",
              "        0.47412465, 0.        , 0.        , 0.47412465, 0.        ,\n",
              "        0.3175268 , 0.47412465],\n",
              "       [0.        , 0.        , 0.        , 0.        , 0.83088075,\n",
              "        0.        , 0.        , 0.        , 0.        , 0.        ,\n",
              "        0.55645052, 0.        ],\n",
              "       [0.57735027, 0.        , 0.        , 0.        , 0.        ,\n",
              "        0.        , 0.57735027, 0.        , 0.        , 0.57735027,\n",
              "        0.        , 0.        ],\n",
              "       [0.        , 0.        , 0.83088075, 0.        , 0.        ,\n",
              "        0.        , 0.        , 0.        , 0.        , 0.        ,\n",
              "        0.55645052, 0.        ],\n",
              "       [0.        , 0.70710678, 0.        , 0.        , 0.        ,\n",
              "        0.        , 0.        , 0.70710678, 0.        , 0.        ,\n",
              "        0.        , 0.        ]])"
            ]
          },
          "metadata": {},
          "execution_count": 36
        }
      ]
    },
    {
      "cell_type": "code",
      "source": [
        "sentence = [\"i like like like hate smile\"]"
      ],
      "metadata": {
        "id": "U1hxAGYI2XmV"
      },
      "execution_count": 39,
      "outputs": []
    },
    {
      "cell_type": "code",
      "source": [
        "nd2array = cv.transform(sentence).toarray()\n",
        "nd2array # 하나여도 2차원"
      ],
      "metadata": {
        "colab": {
          "base_uri": "https://localhost:8080/"
        },
        "id": "YGKgeHuG3UsK",
        "outputId": "1500aa1f-575a-46f0-da96-8d3df09ad575"
      },
      "execution_count": 40,
      "outputs": [
        {
          "output_type": "execute_result",
          "data": {
            "text/plain": [
              "array([[0, 0, 1, 0, 3, 0, 0, 1, 0, 0, 0, 0]])"
            ]
          },
          "metadata": {},
          "execution_count": 40
        }
      ]
    },
    {
      "cell_type": "code",
      "source": [
        "nd2array[0] # 꺼내려면 인덱싱 / 슬라이싱 필요"
      ],
      "metadata": {
        "colab": {
          "base_uri": "https://localhost:8080/"
        },
        "id": "HSJ7j2Lm3eNU",
        "outputId": "b11457e7-404d-40e9-8762-baaf6de4489e"
      },
      "execution_count": 41,
      "outputs": [
        {
          "output_type": "execute_result",
          "data": {
            "text/plain": [
              "array([0, 0, 1, 0, 3, 0, 0, 1, 0, 0, 0, 0])"
            ]
          },
          "metadata": {},
          "execution_count": 41
        }
      ]
    },
    {
      "cell_type": "code",
      "source": [
        "tfidf = TfidfVectorizer()\n",
        "nd2array = tfidf.fit_transform(sentence).toarray()\n",
        "nd2array # 하나여도 2차원"
      ],
      "metadata": {
        "colab": {
          "base_uri": "https://localhost:8080/"
        },
        "id": "StXivBXr3j7z",
        "outputId": "997b21f8-8795-4960-cfa9-1e9d9b650138"
      },
      "execution_count": 46,
      "outputs": [
        {
          "output_type": "execute_result",
          "data": {
            "text/plain": [
              "array([[0.30151134, 0.90453403, 0.30151134]])"
            ]
          },
          "metadata": {},
          "execution_count": 46
        }
      ]
    },
    {
      "cell_type": "code",
      "source": [
        "cv.inverse_transform(nd2array)"
      ],
      "metadata": {
        "colab": {
          "base_uri": "https://localhost:8080/"
        },
        "id": "4ki_P5k64FNN",
        "outputId": "72d32075-a7b9-458e-8007-93ea0f01f593"
      },
      "execution_count": 47,
      "outputs": [
        {
          "output_type": "execute_result",
          "data": {
            "text/plain": [
              "[array(['do', 'face', 'hate'], dtype='<U6')]"
            ]
          },
          "metadata": {},
          "execution_count": 47
        }
      ]
    },
    {
      "cell_type": "code",
      "source": [
        "tfidf.inverse_transform(nd2array)"
      ],
      "metadata": {
        "colab": {
          "base_uri": "https://localhost:8080/"
        },
        "id": "zKMF6uIF4Sbm",
        "outputId": "ff78e3c8-a817-4035-a1a9-1f02e4d13344"
      },
      "execution_count": 49,
      "outputs": [
        {
          "output_type": "execute_result",
          "data": {
            "text/plain": [
              "[array(['hate', 'like', 'smile'], dtype='<U5')]"
            ]
          },
          "metadata": {},
          "execution_count": 49
        }
      ]
    },
    {
      "cell_type": "code",
      "source": [
        "feature_list = cv.get_feature_names() # index없이 column 값만 추출 => \"사전에 무엇이 들어있는지 확인\"\n",
        "feature_list"
      ],
      "metadata": {
        "colab": {
          "base_uri": "https://localhost:8080/"
        },
        "id": "7BQhzqnu4YvG",
        "outputId": "44dd7028-c155-42b5-9cbd-3ea610d43a72"
      },
      "execution_count": 50,
      "outputs": [
        {
          "output_type": "stream",
          "name": "stderr",
          "text": [
            "/usr/local/lib/python3.7/dist-packages/sklearn/utils/deprecation.py:87: FutureWarning: Function get_feature_names is deprecated; get_feature_names is deprecated in 1.0 and will be removed in 1.2. Please use get_feature_names_out instead.\n",
            "  warnings.warn(msg, category=FutureWarning)\n"
          ]
        },
        {
          "output_type": "execute_result",
          "data": {
            "text/plain": [
              "['do',\n",
              " 'face',\n",
              " 'hate',\n",
              " 'know',\n",
              " 'like',\n",
              " 'love',\n",
              " 'should',\n",
              " 'smile',\n",
              " 'want',\n",
              " 'what',\n",
              " 'you',\n",
              " 'your']"
            ]
          },
          "metadata": {},
          "execution_count": 50
        }
      ]
    },
    {
      "cell_type": "code",
      "source": [
        "# dic <--- list\n",
        "dictionary = dict()\n",
        "for index, element in enumerate(feature_list):\n",
        "  dictionary[index] = element\n",
        "dictionary"
      ],
      "metadata": {
        "colab": {
          "base_uri": "https://localhost:8080/"
        },
        "id": "g1TAKF264lGJ",
        "outputId": "2005a41b-6d5a-4f3e-ac7d-a945cf3b5ed8"
      },
      "execution_count": 52,
      "outputs": [
        {
          "output_type": "execute_result",
          "data": {
            "text/plain": [
              "{0: 'do',\n",
              " 1: 'face',\n",
              " 2: 'hate',\n",
              " 3: 'know',\n",
              " 4: 'like',\n",
              " 5: 'love',\n",
              " 6: 'should',\n",
              " 7: 'smile',\n",
              " 8: 'want',\n",
              " 9: 'what',\n",
              " 10: 'you',\n",
              " 11: 'your'}"
            ]
          },
          "metadata": {},
          "execution_count": 52
        }
      ]
    },
    {
      "cell_type": "code",
      "source": [
        "## 스팸을 나타내는 사전 만들기 (10개)\n",
        "## 스팸이 아닌 사전 만들기 (10개)\n",
        "## 광고!! 짱 좋은 판매 홍보전략입니다.!! => 스펨입니다.!!"
      ],
      "metadata": {
        "id": "BQ1ypzU36nEq"
      },
      "execution_count": null,
      "outputs": []
    },
    {
      "cell_type": "code",
      "source": [
        "yesspam = [\"광고\", \"홍보\", \"전략\", \"마케팅\", \"\"]"
      ],
      "metadata": {
        "id": "zcJzwnX_7YAl"
      },
      "execution_count": null,
      "outputs": []
    }
  ]
}