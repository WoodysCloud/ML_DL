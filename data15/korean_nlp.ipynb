{
  "nbformat": 4,
  "nbformat_minor": 0,
  "metadata": {
    "colab": {
      "name": "korean_nlp.ipynb",
      "provenance": [],
      "collapsed_sections": []
    },
    "kernelspec": {
      "name": "python3",
      "display_name": "Python 3"
    },
    "language_info": {
      "name": "python"
    }
  },
  "cells": [
    {
      "cell_type": "markdown",
      "source": [
        "# konlpy로 한글 nlp"
      ],
      "metadata": {
        "id": "CbcD5x3JvWkh"
      }
    },
    {
      "cell_type": "code",
      "execution_count": 1,
      "metadata": {
        "id": "D6c-UFUDjm5m"
      },
      "outputs": [],
      "source": [
        "# \"!\"pip: \"터미널로 입력하겠다.\""
      ]
    },
    {
      "cell_type": "code",
      "source": [
        "!ls"
      ],
      "metadata": {
        "colab": {
          "base_uri": "https://localhost:8080/"
        },
        "id": "KM1cpNhsmIro",
        "outputId": "0849028c-c519-40c7-cd40-668646566faf"
      },
      "execution_count": 2,
      "outputs": [
        {
          "output_type": "stream",
          "name": "stdout",
          "text": [
            "'etnews.kr_facebook_2016-01-01_2018-08-01_4차 산업혁명.json'   sample_data\n"
          ]
        }
      ]
    },
    {
      "cell_type": "code",
      "source": [
        "# konlpy library 설치\n",
        "!pip install konlpy"
      ],
      "metadata": {
        "colab": {
          "base_uri": "https://localhost:8080/"
        },
        "id": "juh7N0PImMzJ",
        "outputId": "2142b78c-32a5-4d5c-983a-27b7bdf355ab"
      },
      "execution_count": 3,
      "outputs": [
        {
          "output_type": "stream",
          "name": "stdout",
          "text": [
            "Requirement already satisfied: konlpy in /usr/local/lib/python3.7/dist-packages (0.5.2)\n",
            "Requirement already satisfied: beautifulsoup4==4.6.0 in /usr/local/lib/python3.7/dist-packages (from konlpy) (4.6.0)\n",
            "Requirement already satisfied: colorama in /usr/local/lib/python3.7/dist-packages (from konlpy) (0.4.4)\n",
            "Requirement already satisfied: JPype1>=0.7.0 in /usr/local/lib/python3.7/dist-packages (from konlpy) (1.3.0)\n",
            "Requirement already satisfied: numpy>=1.6 in /usr/local/lib/python3.7/dist-packages (from konlpy) (1.19.5)\n",
            "Requirement already satisfied: tweepy>=3.7.0 in /usr/local/lib/python3.7/dist-packages (from konlpy) (3.10.0)\n",
            "Requirement already satisfied: lxml>=4.1.0 in /usr/local/lib/python3.7/dist-packages (from konlpy) (4.2.6)\n",
            "Requirement already satisfied: typing-extensions in /usr/local/lib/python3.7/dist-packages (from JPype1>=0.7.0->konlpy) (3.10.0.2)\n",
            "Requirement already satisfied: requests-oauthlib>=0.7.0 in /usr/local/lib/python3.7/dist-packages (from tweepy>=3.7.0->konlpy) (1.3.0)\n",
            "Requirement already satisfied: requests[socks]>=2.11.1 in /usr/local/lib/python3.7/dist-packages (from tweepy>=3.7.0->konlpy) (2.23.0)\n",
            "Requirement already satisfied: six>=1.10.0 in /usr/local/lib/python3.7/dist-packages (from tweepy>=3.7.0->konlpy) (1.15.0)\n",
            "Requirement already satisfied: oauthlib>=3.0.0 in /usr/local/lib/python3.7/dist-packages (from requests-oauthlib>=0.7.0->tweepy>=3.7.0->konlpy) (3.1.1)\n",
            "Requirement already satisfied: urllib3!=1.25.0,!=1.25.1,<1.26,>=1.21.1 in /usr/local/lib/python3.7/dist-packages (from requests[socks]>=2.11.1->tweepy>=3.7.0->konlpy) (1.24.3)\n",
            "Requirement already satisfied: certifi>=2017.4.17 in /usr/local/lib/python3.7/dist-packages (from requests[socks]>=2.11.1->tweepy>=3.7.0->konlpy) (2021.10.8)\n",
            "Requirement already satisfied: idna<3,>=2.5 in /usr/local/lib/python3.7/dist-packages (from requests[socks]>=2.11.1->tweepy>=3.7.0->konlpy) (2.10)\n",
            "Requirement already satisfied: chardet<4,>=3.0.2 in /usr/local/lib/python3.7/dist-packages (from requests[socks]>=2.11.1->tweepy>=3.7.0->konlpy) (3.0.4)\n",
            "Requirement already satisfied: PySocks!=1.5.7,>=1.5.6 in /usr/local/lib/python3.7/dist-packages (from requests[socks]>=2.11.1->tweepy>=3.7.0->konlpy) (1.7.1)\n"
          ]
        }
      ]
    },
    {
      "cell_type": "code",
      "source": [
        "from konlpy.tag import Okt"
      ],
      "metadata": {
        "id": "5YdKfN2omT39"
      },
      "execution_count": 4,
      "outputs": []
    },
    {
      "cell_type": "code",
      "source": [
        "# Okt 객체 생성\n",
        "okt = Okt()\n",
        "okt"
      ],
      "metadata": {
        "colab": {
          "base_uri": "https://localhost:8080/"
        },
        "id": "YalUkoBgmvMT",
        "outputId": "8e7292f6-3e56-41c8-930a-44124c292af5"
      },
      "execution_count": 5,
      "outputs": [
        {
          "output_type": "execute_result",
          "data": {
            "text/plain": [
              "<konlpy.tag._okt.Okt at 0x7ff71fd2dc10>"
            ]
          },
          "metadata": {},
          "execution_count": 5
        }
      ]
    },
    {
      "cell_type": "code",
      "source": [
        "words = \"나는 한글이란다.!!!!!! 너도 한글이???\""
      ],
      "metadata": {
        "id": "XNbfzgq2mxEn"
      },
      "execution_count": 6,
      "outputs": []
    },
    {
      "cell_type": "code",
      "source": [
        "noun_list = okt.nouns(words)\n",
        "noun_list"
      ],
      "metadata": {
        "colab": {
          "base_uri": "https://localhost:8080/"
        },
        "id": "xqUvZ2kSnKMH",
        "outputId": "7dcd0bd0-4f37-4f99-82ce-4cfe74b144d6"
      },
      "execution_count": 7,
      "outputs": [
        {
          "output_type": "execute_result",
          "data": {
            "text/plain": [
              "['나', '한글', '너', '한글']"
            ]
          },
          "metadata": {},
          "execution_count": 7
        }
      ]
    },
    {
      "cell_type": "code",
      "source": [
        "# count하기 위한 Counter 객체 생성\n",
        "from collections import Counter"
      ],
      "metadata": {
        "id": "l--CVehznVAx"
      },
      "execution_count": 8,
      "outputs": []
    },
    {
      "cell_type": "code",
      "source": [
        "count = Counter(noun_list)\n",
        "count"
      ],
      "metadata": {
        "colab": {
          "base_uri": "https://localhost:8080/"
        },
        "id": "4hy_tOEynkm-",
        "outputId": "a00d540f-cbad-49be-d587-02d6e23ff719"
      },
      "execution_count": 9,
      "outputs": [
        {
          "output_type": "execute_result",
          "data": {
            "text/plain": [
              "Counter({'나': 1, '너': 1, '한글': 2})"
            ]
          },
          "metadata": {},
          "execution_count": 9
        }
      ]
    },
    {
      "cell_type": "code",
      "source": [
        "count.most_common()"
      ],
      "metadata": {
        "colab": {
          "base_uri": "https://localhost:8080/"
        },
        "id": "1g2quiSDnrBV",
        "outputId": "61ddb972-6056-40aa-d366-203b41b529e9"
      },
      "execution_count": 10,
      "outputs": [
        {
          "output_type": "execute_result",
          "data": {
            "text/plain": [
              "[('한글', 2), ('나', 1), ('너', 1)]"
            ]
          },
          "metadata": {},
          "execution_count": 10
        }
      ]
    },
    {
      "cell_type": "code",
      "source": [
        "news = '''\n",
        "[파이낸셜뉴스] 제주 서귀포시 서남서쪽 41㎞ 해역에서 규모 4.9의 지진이 발생했다. 올들어 한반도에서 발생한 지진 중에 규모가 가장 크다. 제주 인근 해역에서 발생한 지진 중에서도 최대 규모다. 제주도 전역에선 \"쿵\" 하는 소리와 함께 수초 정도 흔들림이 느껴졌고, 가까운 전남은 물론 경기·서울에서도 일부 진동이 감지됐다. 행정안전부는 지진 발생 직후 중앙재난안전대책본부(중대본) 1단계를 가동했다.\n",
        "\n",
        "■제주 인근해역 지진 중 역대 최대\n",
        "기상청은 14일 오후 5시19분14초 제주 서귀포시 서남서쪽 41㎞ 해역에서 규모 4.9의 지진이 발생했다고 밝혔다. 진앙은 북위 33.09도, 동경 126.16도이며 지진 발생 깊이는 17㎞다.\n",
        "\n",
        "이날 지진은 오후 5시19분14초에 발생했다. 기상청이 마라도에서 발생 4초 후에 최초로 관측했고, 지진조기경보를 최초 관측 후 12초 만에 발동(오후 5시19분30초)했다. 기상청은 최초 신속경보시 지진 규모 5.3, 서남서쪽 32km로 발표한 후 상세 경보시 정정(규모 3.9, 41㎞)했다.\n",
        "\n",
        "기상청은 \"이번 지진은 한반도 주변 남해와 서해 해역에서 주로 발생하는 주향이동단층 운동으로 분석된다. 지진해일 발생 가능성은 없다\"고 밝혔다.\n",
        "\n",
        "규모 4.9 지진 이후 이날 오후 7시30분 현재 규모 1.6~1.7의 여진이 9회 발생했다.\n",
        "\n",
        "지역별 계기진도는 제주 5, 전남 3, 경남과 광주, 전북이 2다. 진도 5는 거의 모든 사람이 진동을 느끼고 그릇, 창문 등이 깨지기도 하는 정도다.\n",
        "\n",
        "소방청에 따르면 이번 제주 지진 관련 신고는 오후 7시 현재 총 169건이다. 진동을 느꼈다는 유감 신고는 제주 108건, 전남 37건, 대전 6건, 경기 남부 4건, 부산·서울 각 2건 등이다. 소방청은 \"제주 앞바다 지진 관련 유감 신고는 전국적으로 많았다. 19시 기준 아파트 베란다 타일 갈라짐, 연립주택 창문 깨짐 등 2건의 피해신고가 접수됐다\"고 밝혔다.\n",
        "\n",
        "현재 제주시 제주국제공항은 항공편이 지연, 결항없이 정상 운항하고 있다. 부산 기장군에 있는 고리원자력발전소는 정상 가동 중이다. 다만 진원지 근처인 모슬포 인근 도로가 갈라지고, 일부 주택의 창문이 깨지는 등 지진 피해가 일부 확인된 것으로 전해진다.\n",
        "\n",
        "제주 앞바다 4.9 규모 지진..\"지진해일 가능성 없어\"(종합)\n",
        "© News1 최수아 디자이너 /사진=뉴스1\n",
        "\n",
        "\n",
        "이날 지진은 올해 한반도에서 발생한 지진 중에 규모가 가장 크다. 올들어 한반도에서 발생한 지진은 이번 지진을 포함해 총 65건. 이 중 규모 3.0 미만이 61건으로 가장 많다. 규모 4.0에서 5.0 지진은 이번 제주 서귀포 해역 지진을 포함해 2건이다.\n",
        "\n",
        "이번 지진은 기상청 계기관측(1978년) 이후 역대 11번째 규모다. 지난 2016년 9월12일 경주지진(규모 5.8), 2017년 11월15일 포항 지진(규모 5.4)이 역대 한반도 발생 지진 중에 규모로는 1,2위다.\n",
        "\n",
        "이번 지진의 진앙 50km 이내에서 규모 2.0 이상 지진은 1978년 이후 총 31회 발생했다. 이 중에 2005년 6월15일 제주 고산 남쪽 26㎞ 해역에서 발생한 3.9 규모 지진이 두번째로 컸다.\n",
        "\n",
        "■시민·관광객들 건물 흔들려 크게 놀라\n",
        "지진의 직접 영향권인 제주도는 전역에서 크고 작은 진동이 확인됐다. 시민과 관광객들은 땅과 건물이 흔들리는 등의 진동에 크게 놀랐다. 일부 특급호텔에선 투숙객들이 대피하는 소동도 벌어졌다.\n",
        "\n",
        "서귀포시에 있는 제주컨벤션센터 일대에선 실내 면세점 등에 있던 사람들이 흔들림을 느끼고 밖으로 뛰쳐 나왔다. 크게 놀란 이들은 당황스러움을 감추지 못했다. 또 서귀포시에 있는 한 학원에서도 수업 중 건물이 흔들려 교사와 학생들이 밖으로 급하게 뛰어나왔다.\n",
        "\n",
        "길을 걷다가 흔들림에 넘어지는 일도 있었다. 서귀포시 중문동에 사는 A씨는 \"길을 걷는 중에 순간적인 흔들림이 느껴지면서 앞으로 고꾸라졌다. 제주에 평생 살면서 이런 적은 처음\"이라고 했다.\n",
        "'''"
      ],
      "metadata": {
        "id": "yJe6cfl_oWsj"
      },
      "execution_count": 11,
      "outputs": []
    },
    {
      "cell_type": "code",
      "source": [
        "noun_list2 = okt.nouns(news)\n",
        "noun_list2"
      ],
      "metadata": {
        "colab": {
          "base_uri": "https://localhost:8080/"
        },
        "id": "W6aG2VXcoWp0",
        "outputId": "a228e5c0-d220-4f5b-8105-dd200aa374af"
      },
      "execution_count": 12,
      "outputs": [
        {
          "output_type": "execute_result",
          "data": {
            "text/plain": [
              "['파이낸셜뉴스',\n",
              " '제주',\n",
              " '서귀포시',\n",
              " '남서쪽',\n",
              " '해역',\n",
              " '규모',\n",
              " '의',\n",
              " '지진',\n",
              " '발생',\n",
              " '한반도',\n",
              " '발생',\n",
              " '지진',\n",
              " '중',\n",
              " '규모',\n",
              " '가장',\n",
              " '제주',\n",
              " '인근',\n",
              " '해역',\n",
              " '발생',\n",
              " '지진',\n",
              " '중',\n",
              " '최대',\n",
              " '규모',\n",
              " '제주도',\n",
              " '전역',\n",
              " '쿵',\n",
              " '소리',\n",
              " '수초',\n",
              " '정도',\n",
              " '전남',\n",
              " '경기',\n",
              " '서울',\n",
              " '일부',\n",
              " '진동',\n",
              " '감지',\n",
              " '행정안전부',\n",
              " '지진',\n",
              " '발생',\n",
              " '직후',\n",
              " '중앙',\n",
              " '재난',\n",
              " '안전',\n",
              " '대책',\n",
              " '본부',\n",
              " '중',\n",
              " '대본',\n",
              " '단계',\n",
              " '가동',\n",
              " '제주',\n",
              " '인근',\n",
              " '해역',\n",
              " '지진',\n",
              " '중',\n",
              " '역대',\n",
              " '최대',\n",
              " '기상청',\n",
              " '오후',\n",
              " '제주',\n",
              " '서귀포시',\n",
              " '남서쪽',\n",
              " '해역',\n",
              " '규모',\n",
              " '의',\n",
              " '지진',\n",
              " '발생',\n",
              " '진앙',\n",
              " '북위',\n",
              " '도',\n",
              " '동경',\n",
              " '도',\n",
              " '지진',\n",
              " '발생',\n",
              " '깊이',\n",
              " '날',\n",
              " '지진',\n",
              " '오후',\n",
              " '발생',\n",
              " '기상청',\n",
              " '마라도',\n",
              " '발생',\n",
              " '후',\n",
              " '최초',\n",
              " '관측',\n",
              " '지진',\n",
              " '조기',\n",
              " '경보',\n",
              " '최초',\n",
              " '관측',\n",
              " '후',\n",
              " '발동',\n",
              " '오후',\n",
              " '기상청',\n",
              " '최초',\n",
              " '보시',\n",
              " '지진',\n",
              " '규모',\n",
              " '남서쪽',\n",
              " '로',\n",
              " '발표',\n",
              " '후',\n",
              " '상세',\n",
              " '보시',\n",
              " '정정',\n",
              " '규모',\n",
              " '기상청',\n",
              " '이번',\n",
              " '지진',\n",
              " '한반도',\n",
              " '주변',\n",
              " '남해',\n",
              " '서해',\n",
              " '해역',\n",
              " '주로',\n",
              " '발생',\n",
              " '주향이동단층',\n",
              " '운동',\n",
              " '분석',\n",
              " '지진해일',\n",
              " '발생',\n",
              " '가능성',\n",
              " '고',\n",
              " '규모',\n",
              " '지진',\n",
              " '이후',\n",
              " '날',\n",
              " '오후',\n",
              " '현재',\n",
              " '규모',\n",
              " '의',\n",
              " '여진',\n",
              " '발생',\n",
              " '지역별',\n",
              " '계기',\n",
              " '진도',\n",
              " '제주',\n",
              " '전남',\n",
              " '경남',\n",
              " '광주',\n",
              " '전북',\n",
              " '진도',\n",
              " '거의',\n",
              " '모든',\n",
              " '사람',\n",
              " '진동',\n",
              " '그릇',\n",
              " '창문',\n",
              " '등',\n",
              " '기도',\n",
              " '정도',\n",
              " '소방청',\n",
              " '이번',\n",
              " '제주',\n",
              " '지진',\n",
              " '관련',\n",
              " '신고',\n",
              " '오후',\n",
              " '현재',\n",
              " '총',\n",
              " '건',\n",
              " '진동',\n",
              " '유감',\n",
              " '신고',\n",
              " '제주',\n",
              " '건',\n",
              " '전남',\n",
              " '건',\n",
              " '대전',\n",
              " '건',\n",
              " '경기',\n",
              " '남부',\n",
              " '건',\n",
              " '부산',\n",
              " '서울',\n",
              " '각',\n",
              " '건',\n",
              " '등',\n",
              " '소방청',\n",
              " '제주',\n",
              " '앞바다',\n",
              " '지진',\n",
              " '관련',\n",
              " '유감',\n",
              " '신고',\n",
              " '전국',\n",
              " '기준',\n",
              " '아파트',\n",
              " '베란다',\n",
              " '타일',\n",
              " '립',\n",
              " '주택',\n",
              " '창문',\n",
              " '등',\n",
              " '건의',\n",
              " '피해',\n",
              " '신고',\n",
              " '접수',\n",
              " '고',\n",
              " '현재',\n",
              " '제주시',\n",
              " '국제공항',\n",
              " '항공',\n",
              " '편이',\n",
              " '지연',\n",
              " '결항',\n",
              " '정상',\n",
              " '운항',\n",
              " '부산',\n",
              " '기장군',\n",
              " '고리',\n",
              " '원자력발전소',\n",
              " '정상',\n",
              " '가동',\n",
              " '중이',\n",
              " '다만',\n",
              " '진원',\n",
              " '근처',\n",
              " '모슬포',\n",
              " '인근',\n",
              " '도로',\n",
              " '일부',\n",
              " '주택',\n",
              " '창문',\n",
              " '등',\n",
              " '지진',\n",
              " '피해',\n",
              " '일부',\n",
              " '확인',\n",
              " '것',\n",
              " '제주',\n",
              " '앞바다',\n",
              " '규모',\n",
              " '지진',\n",
              " '지진해일',\n",
              " '가능성',\n",
              " '종합',\n",
              " '최',\n",
              " '수아',\n",
              " '디자이너',\n",
              " '사진',\n",
              " '뉴스',\n",
              " '날',\n",
              " '지진',\n",
              " '올해',\n",
              " '한반도',\n",
              " '발생',\n",
              " '지진',\n",
              " '중',\n",
              " '규모',\n",
              " '가장',\n",
              " '한반도',\n",
              " '발생',\n",
              " '지진',\n",
              " '이번',\n",
              " '지진',\n",
              " '포함',\n",
              " '총',\n",
              " '건',\n",
              " '이',\n",
              " '중',\n",
              " '규모',\n",
              " '미만',\n",
              " '건',\n",
              " '가장',\n",
              " '규모',\n",
              " '지진',\n",
              " '이번',\n",
              " '제주',\n",
              " '서귀포',\n",
              " '해역',\n",
              " '지진',\n",
              " '포함',\n",
              " '건',\n",
              " '이번',\n",
              " '지진',\n",
              " '기상청',\n",
              " '계기',\n",
              " '관측',\n",
              " '이후',\n",
              " '역대',\n",
              " '규모',\n",
              " '지난',\n",
              " '경주',\n",
              " '지진',\n",
              " '규모',\n",
              " '포항',\n",
              " '지진',\n",
              " '규모',\n",
              " '이',\n",
              " '역대',\n",
              " '한반도',\n",
              " '발생',\n",
              " '지진',\n",
              " '중',\n",
              " '규모',\n",
              " '위',\n",
              " '이번',\n",
              " '지진',\n",
              " '진앙',\n",
              " '이내',\n",
              " '규모',\n",
              " '이상',\n",
              " '지진',\n",
              " '이후',\n",
              " '총',\n",
              " '발생',\n",
              " '이',\n",
              " '중',\n",
              " '제주',\n",
              " '고산',\n",
              " '남쪽',\n",
              " '해역',\n",
              " '발생',\n",
              " '규모',\n",
              " '지진',\n",
              " '두번째',\n",
              " '시민',\n",
              " '관광객',\n",
              " '건물',\n",
              " '크게',\n",
              " '지진',\n",
              " '직접',\n",
              " '영향',\n",
              " '제주도',\n",
              " '전역',\n",
              " '진동',\n",
              " '확인',\n",
              " '시민',\n",
              " '관광객',\n",
              " '땅',\n",
              " '건물',\n",
              " '등',\n",
              " '진동',\n",
              " '크게',\n",
              " '일부',\n",
              " '특급',\n",
              " '호텔',\n",
              " '투숙',\n",
              " '객',\n",
              " '대피',\n",
              " '소동',\n",
              " '서귀포시',\n",
              " '제주',\n",
              " '컨벤션',\n",
              " '센터',\n",
              " '일대',\n",
              " '실내',\n",
              " '면세점',\n",
              " '등',\n",
              " '사람',\n",
              " '밖',\n",
              " '크게',\n",
              " '놀란',\n",
              " '이',\n",
              " '당황',\n",
              " '움',\n",
              " '또',\n",
              " '서귀포시',\n",
              " '학원',\n",
              " '수업',\n",
              " '중',\n",
              " '건물',\n",
              " '교사',\n",
              " '학생',\n",
              " '밖',\n",
              " '길',\n",
              " '일도',\n",
              " '서귀포시',\n",
              " '중문동',\n",
              " '씨',\n",
              " '길',\n",
              " '중',\n",
              " '순간',\n",
              " '앞',\n",
              " '제주',\n",
              " '평생',\n",
              " '처음']"
            ]
          },
          "metadata": {},
          "execution_count": 12
        }
      ]
    },
    {
      "cell_type": "code",
      "source": [
        "count2 = Counter(noun_list2)\n",
        "count2"
      ],
      "metadata": {
        "colab": {
          "base_uri": "https://localhost:8080/"
        },
        "id": "EymmXWApn3id",
        "outputId": "23d8be77-993b-45e3-feb9-9f24b3d11f66"
      },
      "execution_count": 13,
      "outputs": [
        {
          "output_type": "execute_result",
          "data": {
            "text/plain": [
              "Counter({'가능성': 2,\n",
              "         '가동': 2,\n",
              "         '가장': 3,\n",
              "         '각': 1,\n",
              "         '감지': 1,\n",
              "         '객': 1,\n",
              "         '거의': 1,\n",
              "         '건': 9,\n",
              "         '건물': 3,\n",
              "         '건의': 1,\n",
              "         '것': 1,\n",
              "         '결항': 1,\n",
              "         '경기': 2,\n",
              "         '경남': 1,\n",
              "         '경보': 1,\n",
              "         '경주': 1,\n",
              "         '계기': 2,\n",
              "         '고': 2,\n",
              "         '고리': 1,\n",
              "         '고산': 1,\n",
              "         '관광객': 2,\n",
              "         '관련': 2,\n",
              "         '관측': 3,\n",
              "         '광주': 1,\n",
              "         '교사': 1,\n",
              "         '국제공항': 1,\n",
              "         '규모': 18,\n",
              "         '그릇': 1,\n",
              "         '근처': 1,\n",
              "         '기도': 1,\n",
              "         '기상청': 5,\n",
              "         '기장군': 1,\n",
              "         '기준': 1,\n",
              "         '길': 2,\n",
              "         '깊이': 1,\n",
              "         '날': 3,\n",
              "         '남부': 1,\n",
              "         '남서쪽': 3,\n",
              "         '남쪽': 1,\n",
              "         '남해': 1,\n",
              "         '놀란': 1,\n",
              "         '뉴스': 1,\n",
              "         '다만': 1,\n",
              "         '단계': 1,\n",
              "         '당황': 1,\n",
              "         '대본': 1,\n",
              "         '대전': 1,\n",
              "         '대책': 1,\n",
              "         '대피': 1,\n",
              "         '도': 2,\n",
              "         '도로': 1,\n",
              "         '동경': 1,\n",
              "         '두번째': 1,\n",
              "         '등': 6,\n",
              "         '디자이너': 1,\n",
              "         '땅': 1,\n",
              "         '또': 1,\n",
              "         '로': 1,\n",
              "         '립': 1,\n",
              "         '마라도': 1,\n",
              "         '면세점': 1,\n",
              "         '모든': 1,\n",
              "         '모슬포': 1,\n",
              "         '미만': 1,\n",
              "         '밖': 2,\n",
              "         '발동': 1,\n",
              "         '발생': 16,\n",
              "         '발표': 1,\n",
              "         '베란다': 1,\n",
              "         '보시': 2,\n",
              "         '본부': 1,\n",
              "         '부산': 2,\n",
              "         '북위': 1,\n",
              "         '분석': 1,\n",
              "         '사람': 2,\n",
              "         '사진': 1,\n",
              "         '상세': 1,\n",
              "         '서귀포': 1,\n",
              "         '서귀포시': 5,\n",
              "         '서울': 2,\n",
              "         '서해': 1,\n",
              "         '센터': 1,\n",
              "         '소동': 1,\n",
              "         '소리': 1,\n",
              "         '소방청': 2,\n",
              "         '수아': 1,\n",
              "         '수업': 1,\n",
              "         '수초': 1,\n",
              "         '순간': 1,\n",
              "         '시민': 2,\n",
              "         '신고': 4,\n",
              "         '실내': 1,\n",
              "         '씨': 1,\n",
              "         '아파트': 1,\n",
              "         '안전': 1,\n",
              "         '앞': 1,\n",
              "         '앞바다': 2,\n",
              "         '여진': 1,\n",
              "         '역대': 3,\n",
              "         '영향': 1,\n",
              "         '오후': 5,\n",
              "         '올해': 1,\n",
              "         '운동': 1,\n",
              "         '운항': 1,\n",
              "         '움': 1,\n",
              "         '원자력발전소': 1,\n",
              "         '위': 1,\n",
              "         '유감': 2,\n",
              "         '의': 3,\n",
              "         '이': 4,\n",
              "         '이내': 1,\n",
              "         '이번': 6,\n",
              "         '이상': 1,\n",
              "         '이후': 3,\n",
              "         '인근': 3,\n",
              "         '일대': 1,\n",
              "         '일도': 1,\n",
              "         '일부': 4,\n",
              "         '재난': 1,\n",
              "         '전국': 1,\n",
              "         '전남': 3,\n",
              "         '전북': 1,\n",
              "         '전역': 2,\n",
              "         '접수': 1,\n",
              "         '정도': 2,\n",
              "         '정상': 2,\n",
              "         '정정': 1,\n",
              "         '제주': 13,\n",
              "         '제주도': 2,\n",
              "         '제주시': 1,\n",
              "         '조기': 1,\n",
              "         '종합': 1,\n",
              "         '주로': 1,\n",
              "         '주변': 1,\n",
              "         '주택': 2,\n",
              "         '주향이동단층': 1,\n",
              "         '중': 10,\n",
              "         '중문동': 1,\n",
              "         '중앙': 1,\n",
              "         '중이': 1,\n",
              "         '지난': 1,\n",
              "         '지역별': 1,\n",
              "         '지연': 1,\n",
              "         '지진': 30,\n",
              "         '지진해일': 2,\n",
              "         '직접': 1,\n",
              "         '직후': 1,\n",
              "         '진도': 2,\n",
              "         '진동': 5,\n",
              "         '진앙': 2,\n",
              "         '진원': 1,\n",
              "         '창문': 3,\n",
              "         '처음': 1,\n",
              "         '총': 3,\n",
              "         '최': 1,\n",
              "         '최대': 2,\n",
              "         '최초': 3,\n",
              "         '컨벤션': 1,\n",
              "         '쿵': 1,\n",
              "         '크게': 3,\n",
              "         '타일': 1,\n",
              "         '투숙': 1,\n",
              "         '특급': 1,\n",
              "         '파이낸셜뉴스': 1,\n",
              "         '편이': 1,\n",
              "         '평생': 1,\n",
              "         '포함': 2,\n",
              "         '포항': 1,\n",
              "         '피해': 2,\n",
              "         '학생': 1,\n",
              "         '학원': 1,\n",
              "         '한반도': 5,\n",
              "         '항공': 1,\n",
              "         '해역': 7,\n",
              "         '행정안전부': 1,\n",
              "         '현재': 3,\n",
              "         '호텔': 1,\n",
              "         '확인': 2,\n",
              "         '후': 3})"
            ]
          },
          "metadata": {},
          "execution_count": 13
        }
      ]
    },
    {
      "cell_type": "code",
      "source": [
        "count2.most_common(5)"
      ],
      "metadata": {
        "colab": {
          "base_uri": "https://localhost:8080/"
        },
        "id": "QkM2qHEQof2X",
        "outputId": "d7d37b7f-4b5a-4d86-943d-0c44b5af7f7b"
      },
      "execution_count": 14,
      "outputs": [
        {
          "output_type": "execute_result",
          "data": {
            "text/plain": [
              "[('지진', 30), ('규모', 18), ('발생', 16), ('제주', 13), ('중', 10)]"
            ]
          },
          "metadata": {},
          "execution_count": 14
        }
      ]
    },
    {
      "cell_type": "code",
      "source": [
        "word_count = dict()\n",
        "for tag, count2 in count2.most_common(15):\n",
        "  if len(str(tag)) > 1:\n",
        "    word_count[tag] = count2\n",
        "word_count"
      ],
      "metadata": {
        "colab": {
          "base_uri": "https://localhost:8080/"
        },
        "id": "y9N_Ons3pEpm",
        "outputId": "e7f8b7f0-09ad-4077-a4ef-49376cdb30bc"
      },
      "execution_count": 15,
      "outputs": [
        {
          "output_type": "execute_result",
          "data": {
            "text/plain": [
              "{'규모': 18,\n",
              " '기상청': 5,\n",
              " '발생': 16,\n",
              " '서귀포시': 5,\n",
              " '오후': 5,\n",
              " '이번': 6,\n",
              " '일부': 4,\n",
              " '제주': 13,\n",
              " '지진': 30,\n",
              " '진동': 5,\n",
              " '한반도': 5,\n",
              " '해역': 7}"
            ]
          },
          "metadata": {},
          "execution_count": 15
        }
      ]
    },
    {
      "cell_type": "markdown",
      "source": [
        "## 전자신문 텍스트마이닝 - json 파일 nlp"
      ],
      "metadata": {
        "id": "gpL21HKrwR9q"
      }
    },
    {
      "cell_type": "code",
      "source": [
        "import json\n",
        "# xml => <money>1000</money>\n",
        "# eXtensible Markup Languages(확장가능한 ML(Markup Language))\n",
        "# json => {\"money\": 1000}\n",
        "# JSON: JavaScript Object Notation"
      ],
      "metadata": {
        "id": "kPSisDpyuVuz"
      },
      "execution_count": 16,
      "outputs": []
    },
    {
      "cell_type": "code",
      "source": [
        "file_name = \"/content/etnews.kr_facebook_2016-01-01_2018-08-01_4차 산업혁명.json\"\n",
        "json_data = json.loads(open(file_name, 'r', encoding='utf-8').read()) # 읽기 위한 스트림 생성\n",
        "json_data"
      ],
      "metadata": {
        "colab": {
          "base_uri": "https://localhost:8080/"
        },
        "id": "inwXx8PDvKkP",
        "outputId": "b16a408d-d5e1-40df-90ca-920253407419"
      },
      "execution_count": 17,
      "outputs": [
        {
          "output_type": "execute_result",
          "data": {
            "text/plain": [
              "[{'created_time': '2018-06-20 18:06:39',\n",
              "  'link': 'https://www.facebook.com/etnews.kr/videos/1981346601899735/',\n",
              "  'message': '6월의 스파크포럼 - \"미래 시대, 조직의 변화도 시작됐다!\"\\n\\n스파크포럼은 현 사회의 사회문제 및 이슈를 제기하고, 그 이슈를 혁신적으로 해결하고자 하는 소셜이노베이터를 발굴, 지원하여 우리 사회 따뜻한 변화를 확산시키지 위해 만들어진 도전과 만남의 자리입니다.\\n\\n6월의 스파크포럼에서는 4차 산업혁명 시대의 기업조직과 조직문화를 살펴보고, 조직의 변화를 받아들이고 실험해나가는 사례를 통해 미래 시대 조직이 나아가야 할 방향을 함께 생각해보고자 합니다.',\n",
              "  'name': '6월의 스파크포럼 - \"미래 시대, 조직의 변화도 시작됐다!\"',\n",
              "  'post_id': '407886705912407_1981346601899735',\n",
              "  'total_comments': 3},\n",
              " {'created_time': '2018-06-14 10:41:16',\n",
              "  'link': 'http://www.etnews.com/20180612000347',\n",
              "  'message': '로봇이 4차 산업혁명 주요 성장 동력으로 떠오르면서 국내 로봇 기업에 재평가가 이뤄지고 있다는 분석입니다.',\n",
              "  'name': '기술력 갖춘 로봇기업 몸값 치솟는다',\n",
              "  'post_id': '407886705912407_1971252229575839',\n",
              "  'total_comments': 0},\n",
              " {'created_time': '2018-04-10 17:42:00',\n",
              "  'link': 'http://www.etnews.com/20180409000360?mc=em_002_00001',\n",
              "  'message': '4차 산업혁명 시대 금융 산업 전반 점검해야 한다는...',\n",
              "  'name': \"휘청거리는 대한민국 '금융'...서민도 기업도 ICT도 실종\",\n",
              "  'post_id': '407886705912407_1900738133293916',\n",
              "  'total_comments': 0},\n",
              " {'created_time': '2018-03-05 12:05:00',\n",
              "  'link': 'https://goo.gl/qPEyAJ',\n",
              "  'message': \"공통 간판 공약은 '4차 산업혁명 선도 도시 구현'과 '가상화폐·블록체인 기술 활용' 등입니다. https://goo.gl/qPEyAJ\",\n",
              "  'name': \"지방선거 D-100 정책 공약 '4차산업혁명'에 초점\",\n",
              "  'post_id': '407886705912407_1859978837369846',\n",
              "  'total_comments': 0},\n",
              " {'created_time': '2018-02-05 17:20:01',\n",
              "  'link': 'http://www.etnews.com/20180205000237',\n",
              "  'message': '이번 과정은 4차 산업혁명 핵심 기술인 AI에 대한 통찰력과 알파고를 통해 우리 일상과 익숙해진 로봇, 빅데이터 산업 흐름을 알려줍니다. #인공지능 #최고위과정 #산학연최고전문가 https://goo.gl/jSZSNX',\n",
              "  'name': '[알림]제2기 인공지능 최고위 과정 모집',\n",
              "  'post_id': '407886705912407_1829059807128416',\n",
              "  'total_comments': 0},\n",
              " {'created_time': '2018-01-29 23:39:00',\n",
              "  'link': 'http://www.etnews.com/20180129000403?mc=em_003_00001',\n",
              "  'message': '4차 산업혁명 모든 기술과 서비스 구현',\n",
              "  'name': \"첫 스마트시티 '부산·세종' 낙점...규제 프리존으로\",\n",
              "  'post_id': '407886705912407_1821177084583355',\n",
              "  'total_comments': 0},\n",
              " {'created_time': '2017-11-09 18:11:43',\n",
              "  'link': 'http://www.sek.co.kr/2017/nbf',\n",
              "  'message': '산업혁명의 나라, 영국엔 4차 산업혁명이 없다?\\n한국-영국 경험과 지혜를 모으는 ‘미래비즈니스포럼 2017’ 개최',\n",
              "  'name': '미래비즈니스포럼 2017 : 손에 잡히는 4차 산업혁명',\n",
              "  'post_id': '407886705912407_1735224763178588',\n",
              "  'total_comments': 0},\n",
              " {'created_time': '2017-10-25 13:08:49',\n",
              "  'link': 'https://www.facebook.com/etnews.kr/videos/1720053844695680/',\n",
              "  'message': \"[전자신문TV 라이브] SBA 신직업위크\\n\\n4차 산업혁명 시대의 경쟁력 확보와 일자리 창출의 해법을 신직업에서 찾고 있는 서울산업진흥원(SBA)이 자신들의 역량과 노력을 모두 담은 '제 2회 신직업위크'를 진행하고 있습니다.\\n\\n이번 전자신문TV라이브는 서울 대치동 SBA 신직업교육센터에서 강만구 신직업교육팀장과 서지윤 신직업리서치팀수석, 윤석원 테스트웍스 대표 등과 함께 '제 2회 신직업위크'와 최신 신직업트렌드를 알아보는 시간으로 마련했습니다. 많은 시청 바랍니다. \\n\\n#전자신문 #전자신문엔터 #전자신문TV #라이브 #소셜방송 #현장라이브 #손보련 #신직업위크 #서울산업진흥원 #SBA #신직업 #서울 #강만구 #서지윤 #윤석원 #테스트웍스 #소프트웨어 #테스터 #소프트웨어테스터\",\n",
              "  'name': '[전자신문TV 라이브] SBA 신직업위크',\n",
              "  'post_id': '407886705912407_1720053844695680',\n",
              "  'total_comments': 0},\n",
              " {'created_time': '2017-10-06 11:50:00',\n",
              "  'link': 'http://www.etnews.com/20171005000056?mc=em_011_00001',\n",
              "  'message': '혹시 우리나라도?~~4차 산업혁명 시대 떠오르는 일자리 전략으로 강추~~',\n",
              "  'name': '日, 인공지능 활용능력 자격시험 만든다',\n",
              "  'post_id': '407886705912407_1700789646622100',\n",
              "  'total_comments': 1},\n",
              " {'created_time': '2017-09-25 15:30:00',\n",
              "  'link': 'http://www.etnews.com/20170924000106?mc=em_003_00001',\n",
              "  'message': '4차 산업혁명 대응에 가장 강점 분야는 5세대 이동통신...건강한 산업 생태계 조성 노력 강조',\n",
              "  'name': \"김상조 공정위원장 “기업집단국, 조사국과 달라…'존경받는 기업' 만드는 게 핵심”\",\n",
              "  'post_id': '407886705912407_1691461310888267',\n",
              "  'total_comments': 0},\n",
              " {'created_time': '2017-08-29 00:54:00',\n",
              "  'link': 'http://www.etnews.com/20170825000162?mc=em_009_00001',\n",
              "  'message': \"중앙부처 공무원 51.3% '4차 산업혁명 관련 가장 시급히 대응해야 할 기술적 과제'로 빅데이터 활용 꼽\",\n",
              "  'name': '현직 공무원들 \"빅데이터·AI, 정책에 적극 활용\"…4차 산업혁명 인식 높아',\n",
              "  'post_id': '407886705912407_1665258370175228',\n",
              "  'total_comments': 1},\n",
              " {'created_time': '2017-08-17 15:37:14',\n",
              "  'link': 'https://www.facebook.com/etnews.kr/videos/1655135431187522/',\n",
              "  'message': '[전자신문TV 라이브] 직격인터뷰 - 서울산업진흥원(SBA) 주형철 대표이사\\n\\n최근 각급 공공기관들이 4차 산업혁명기를 맞은 국내 중소기업의 경쟁력과 일자리 창출을 위해 노력하고 있는데요.\\n\\n이번 전자신문TV 라이브는 중소기업 활성화와 일자리 창출에 앞장서는 공공기관 중 대표적 사례로 꼽히는 서울산업진흥원 주형철 대표이사를 모시고 다양한 이야기를 듣는 시간으로 진행됩니다.\\n\\n#전자신문 #전자신문TV #서울산업진흥원 #SBA #주형철 #소성렬',\n",
              "  'name': '[전자신문TV 라이브] 직격인터뷰 - 서울산업진흥원(SBA) 주형철 대표이사',\n",
              "  'post_id': '407886705912407_1655135431187522',\n",
              "  'total_comments': 15},\n",
              " {'created_time': '2017-08-12 17:48:00',\n",
              "  'link': 'http://www.etnews.com/20170810000414?mc=em_009_00001',\n",
              "  'message': '4차 산업혁명 대응은 일자리 창출과 함께 문재인 정부 주요 국정 과제인 데도 우선순위에서 밀렸다는 지적',\n",
              "  'name': '4차 산업혁명위 출범 후순위로 밀렸다',\n",
              "  'post_id': '407886705912407_1648865381814527',\n",
              "  'total_comments': 0},\n",
              " {'created_time': '2017-06-09 22:00:00',\n",
              "  'link': 'http://www.etnews.com/20170608000300?mc=em_009_00001',\n",
              "  'message': '통합·개혁 행보에서 빠른 움직임을 보였지만 4차 산업혁명 등 신성장동력 창출에서는 한 발짝도 못 나갔다는 평입니다...',\n",
              "  'name': \"새정부 출범 한 달...'통합·개혁'엔 진일보, '4차 산업혁명 대응' 한발짝도 못 나가\",\n",
              "  'post_id': '407886705912407_1579376925430040',\n",
              "  'total_comments': 4},\n",
              " {'created_time': '2017-05-24 18:30:00',\n",
              "  'link': 'http://www.etnews.com/20170524000281?mc=em_001_00001',\n",
              "  'message': \"미래창조과학부가 주최하고 전자신문사, 한국경제신문, 한국정보통신진흥협회(KAIT) 주관으로 24일 서울 강남구 삼성동 코엑스에서 개막된 '월드IT쇼(WIS) 2017'은 4차 산업혁명이 더 이상 개념이 아니라 현실로 다가왔음을 입증했습니다~\",\n",
              "  'name': '[WIS 2017]4차 산업혁명, 현실과 마주한 날',\n",
              "  'post_id': '407886705912407_1562807837086949',\n",
              "  'total_comments': 0},\n",
              " {'created_time': '2017-05-17 18:38:04',\n",
              "  'link': 'https://www.facebook.com/etnews.kr/photos/a.409377469096664/1556319464402453/?type=3',\n",
              "  'message': '[전자신문TV 라이브 예고]\\n이번 전자신문TV는 4차 산업혁명과 과학기술 영상컨퍼런스를 생중계합니다~! 광운대학교 이승현 교수님을 모시고 진행하는 이번 행사는 VR. AR 기술과 몰힙형 미디어에 대해 설명해 주신다고 합니다!\\n\\n이번 행사는 전자신문 Entertainment와 가상현실 스튜디오 솔루션을 제작한 다림비젼, 중견기업TV와 함께  4차 산업 정보 채널 IBSB(IT Tech. & Business SNS Broadcast)를 통해 진행합니다.\\n\\nIBSB는 전세계 4차 산업 혁명의 현장의 생생한 IT 소식과 정보, 컨퍼런스의 강연, VOD정보를 VR 기술과 원격 Live방송 기술을 중심으로 시간과 거리를 초월하는 실시간 TELE-Presentation 기술의 새로운 방송 서비스입니다.\\n\\n이런 유익한 강의를 전자신문 페이스북을 통해서 시청하실 수 있습니다~ 많은 관심부탁드립니다♥',\n",
              "  'name': 'Timeline Photos',\n",
              "  'post_id': '407886705912407_1556319464402453',\n",
              "  'total_comments': 1},\n",
              " {'created_time': '2017-04-05 07:00:00',\n",
              "  'link': 'http://www.etnews.com/20170404000230',\n",
              "  'message': '대선 국면이지만 법안의 시급성 때문에 4차 산업혁명 대비 법제 개편 논의가 불붙을 전망입니다...',\n",
              "  'name': \"'4차 산업혁명 기본법' 나왔다…대선 기간 법제화 논의 불붙을듯\",\n",
              "  'post_id': '407886705912407_1505222409512159',\n",
              "  'total_comments': 1},\n",
              " {'created_time': '2017-02-14 08:30:01',\n",
              "  'link': 'http://www.etnews.com/20170213000307',\n",
              "  'message': '4차 산업혁명 시대 대비!!!',\n",
              "  'name': '[차기 정부 거버넌스 개편 방향 좌담회]\"400조 정부, 혁신부총리가 답이다\"',\n",
              "  'post_id': '407886705912407_1452393468128387',\n",
              "  'total_comments': 0},\n",
              " {'created_time': '2016-01-25 06:00:00',\n",
              "  'link': 'http://www.etnews.com/20160124000075',\n",
              "  'message': '‘#4차산업혁명 의 이해(Mastering the Fourth Industrial Revolution)’...\\n23일 폐막한 #다보스포럼 에서는  4차 산업혁명 기대와 우려가 교차했는데요. 구글, 애플, 페이스북, 삼성전자, LG전자가 앞다퉈 4차 산업혁명 흐름에 뛰어 들고 있습니다.',\n",
              "  'name': '[이슈분석]다보스포럼, 4차 산업혁명 기대와 우려 교차',\n",
              "  'post_id': '407886705912407_1106254916075579',\n",
              "  'total_comments': 0}]"
            ]
          },
          "metadata": {},
          "execution_count": 17
        }
      ]
    },
    {
      "cell_type": "code",
      "source": [
        "# \"message\" key만\n",
        "all_data = \"\""
      ],
      "metadata": {
        "id": "2A0vrqzcvx5f"
      },
      "execution_count": 18,
      "outputs": []
    },
    {
      "cell_type": "code",
      "source": [
        "import re"
      ],
      "metadata": {
        "id": "5jleot5xxS_I"
      },
      "execution_count": 19,
      "outputs": []
    },
    {
      "cell_type": "code",
      "source": [
        "# dictionary 형태의 list\n",
        "for item in json_data:\n",
        "  if 'message' in item.keys():\n",
        "    all_data = all_data + re.sub(r'[^\\w]', ' ', item['message']) + \" \" # r: \"정규식\", \"단어가 아니라면\"\n",
        "print(all_data)"
      ],
      "metadata": {
        "colab": {
          "base_uri": "https://localhost:8080/"
        },
        "id": "vyvbvdTMwzX8",
        "outputId": "10e3af16-9211-425a-a069-91fa7397f0da"
      },
      "execution_count": 20,
      "outputs": [
        {
          "output_type": "stream",
          "name": "stdout",
          "text": [
            "6월의 스파크포럼    미래 시대  조직의 변화도 시작됐다    스파크포럼은 현 사회의 사회문제 및 이슈를 제기하고  그 이슈를 혁신적으로 해결하고자 하는 소셜이노베이터를 발굴  지원하여 우리 사회 따뜻한 변화를 확산시키지 위해 만들어진 도전과 만남의 자리입니다   6월의 스파크포럼에서는 4차 산업혁명 시대의 기업조직과 조직문화를 살펴보고  조직의 변화를 받아들이고 실험해나가는 사례를 통해 미래 시대 조직이 나아가야 할 방향을 함께 생각해보고자 합니다  로봇이 4차 산업혁명 주요 성장 동력으로 떠오르면서 국내 로봇 기업에 재평가가 이뤄지고 있다는 분석입니다  4차 산업혁명 시대 금융 산업 전반 점검해야 한다는    공통 간판 공약은  4차 산업혁명 선도 도시 구현 과  가상화폐 블록체인 기술 활용  등입니다  https   goo gl qPEyAJ 이번 과정은 4차 산업혁명 핵심 기술인 AI에 대한 통찰력과 알파고를 통해 우리 일상과 익숙해진 로봇  빅데이터 산업 흐름을 알려줍니다   인공지능  최고위과정  산학연최고전문가 https   goo gl jSZSNX 4차 산업혁명 모든 기술과 서비스 구현 산업혁명의 나라  영국엔 4차 산업혁명이 없다  한국 영국 경험과 지혜를 모으는  미래비즈니스포럼 2017  개최  전자신문TV 라이브  SBA 신직업위크  4차 산업혁명 시대의 경쟁력 확보와 일자리 창출의 해법을 신직업에서 찾고 있는 서울산업진흥원 SBA 이 자신들의 역량과 노력을 모두 담은  제 2회 신직업위크 를 진행하고 있습니다   이번 전자신문TV라이브는 서울 대치동 SBA 신직업교육센터에서 강만구 신직업교육팀장과 서지윤 신직업리서치팀수석  윤석원 테스트웍스 대표 등과 함께  제 2회 신직업위크 와 최신 신직업트렌드를 알아보는 시간으로 마련했습니다  많은 시청 바랍니다     전자신문  전자신문엔터  전자신문TV  라이브  소셜방송  현장라이브  손보련  신직업위크  서울산업진흥원  SBA  신직업  서울  강만구  서지윤  윤석원  테스트웍스  소프트웨어  테스터  소프트웨어테스터 혹시 우리나라도   4차 산업혁명 시대 떠오르는 일자리 전략으로 강추   4차 산업혁명 대응에 가장 강점 분야는 5세대 이동통신   건강한 산업 생태계 조성 노력 강조 중앙부처 공무원 51 3   4차 산업혁명 관련 가장 시급히 대응해야 할 기술적 과제 로 빅데이터 활용 꼽  전자신문TV 라이브  직격인터뷰   서울산업진흥원 SBA  주형철 대표이사  최근 각급 공공기관들이 4차 산업혁명기를 맞은 국내 중소기업의 경쟁력과 일자리 창출을 위해 노력하고 있는데요   이번 전자신문TV 라이브는 중소기업 활성화와 일자리 창출에 앞장서는 공공기관 중 대표적 사례로 꼽히는 서울산업진흥원 주형철 대표이사를 모시고 다양한 이야기를 듣는 시간으로 진행됩니다    전자신문  전자신문TV  서울산업진흥원  SBA  주형철  소성렬 4차 산업혁명 대응은 일자리 창출과 함께 문재인 정부 주요 국정 과제인 데도 우선순위에서 밀렸다는 지적 통합 개혁 행보에서 빠른 움직임을 보였지만 4차 산업혁명 등 신성장동력 창출에서는 한 발짝도 못 나갔다는 평입니다    미래창조과학부가 주최하고 전자신문사  한국경제신문  한국정보통신진흥협회 KAIT  주관으로 24일 서울 강남구 삼성동 코엑스에서 개막된  월드IT쇼 WIS  2017 은 4차 산업혁명이 더 이상 개념이 아니라 현실로 다가왔음을 입증했습니다   전자신문TV 라이브 예고  이번 전자신문TV는 4차 산업혁명과 과학기술 영상컨퍼런스를 생중계합니다   광운대학교 이승현 교수님을 모시고 진행하는 이번 행사는 VR  AR 기술과 몰힙형 미디어에 대해 설명해 주신다고 합니다   이번 행사는 전자신문 Entertainment와 가상현실 스튜디오 솔루션을 제작한 다림비젼  중견기업TV와 함께  4차 산업 정보 채널 IBSB IT Tech    Business SNS Broadcast 를 통해 진행합니다   IBSB는 전세계 4차 산업 혁명의 현장의 생생한 IT 소식과 정보  컨퍼런스의 강연  VOD정보를 VR 기술과 원격 Live방송 기술을 중심으로 시간과 거리를 초월하는 실시간 TELE Presentation 기술의 새로운 방송 서비스입니다   이런 유익한 강의를 전자신문 페이스북을 통해서 시청하실 수 있습니다  많은 관심부탁드립니다  대선 국면이지만 법안의 시급성 때문에 4차 산업혁명 대비 법제 개편 논의가 불붙을 전망입니다    4차 산업혁명 시대 대비      4차산업혁명 의 이해 Mastering the Fourth Industrial Revolution      23일 폐막한  다보스포럼 에서는  4차 산업혁명 기대와 우려가 교차했는데요  구글  애플  페이스북  삼성전자  LG전자가 앞다퉈 4차 산업혁명 흐름에 뛰어 들고 있습니다  \n"
          ]
        }
      ]
    },
    {
      "cell_type": "code",
      "source": [
        "from konlpy.tag import Okt\n",
        "from collections import Counter"
      ],
      "metadata": {
        "id": "lde9DkhjxpPU"
      },
      "execution_count": 21,
      "outputs": []
    },
    {
      "cell_type": "code",
      "source": [
        "# 명사 단어 추출\n",
        "# Okt 객체 생성\n",
        "okt_json = Okt()\n",
        "noun_list_json = okt_json.nouns(all_data)\n",
        "\n",
        "# 카운트 딕셔너리 확인:\n",
        "count_json = Counter(noun_list_json)\n",
        "\n",
        "# 5~10위 프린트\n",
        "count_json.most_common(5)"
      ],
      "metadata": {
        "colab": {
          "base_uri": "https://localhost:8080/"
        },
        "id": "rbH9ZsXFyUTD",
        "outputId": "a3298049-a950-4a67-c914-855e4391a60e"
      },
      "execution_count": 22,
      "outputs": [
        {
          "output_type": "execute_result",
          "data": {
            "text/plain": [
              "[('차', 23), ('산업혁명', 22), ('전자신문', 13), ('산업', 10), ('직업', 10)]"
            ]
          },
          "metadata": {},
          "execution_count": 22
        }
      ]
    },
    {
      "cell_type": "code",
      "source": [
        "word_count_json = dict()\n",
        "for tag, count in count_json.most_common(15):\n",
        "  if len(str(tag)) > 1:\n",
        "    word_count_json[tag] = count\n",
        "word_count_json"
      ],
      "metadata": {
        "colab": {
          "base_uri": "https://localhost:8080/"
        },
        "id": "FheQr1p6ynLJ",
        "outputId": "61404b33-d3d4-4be1-e5b1-4e596909c722"
      },
      "execution_count": 23,
      "outputs": [
        {
          "output_type": "execute_result",
          "data": {
            "text/plain": [
              "{'기술': 8,\n",
              " '라이브': 7,\n",
              " '산업': 10,\n",
              " '산업혁명': 22,\n",
              " '시대': 7,\n",
              " '이번': 6,\n",
              " '일자리': 5,\n",
              " '전자신문': 13,\n",
              " '조직': 4,\n",
              " '직업': 10,\n",
              " '진흥': 6,\n",
              " '포럼': 5}"
            ]
          },
          "metadata": {},
          "execution_count": 23
        }
      ]
    },
    {
      "cell_type": "code",
      "source": [
        "import matplotlib.pyplot as plt"
      ],
      "metadata": {
        "id": "Unthxdg5z1bX"
      },
      "execution_count": 24,
      "outputs": []
    },
    {
      "cell_type": "code",
      "source": [
        "# 나눔고딕 폰트 설치 => matplotlib에서 사용\n",
        "# !sudo apt-get install -y fonts-nanum\n",
        "# !sudo fc-cache -fv\n",
        "# !rm ~/.cache/matplotlib -rf"
      ],
      "metadata": {
        "id": "0Xqx9XxBz_GG"
      },
      "execution_count": 25,
      "outputs": []
    },
    {
      "cell_type": "code",
      "source": [
        "plt.rc('font', family='NanumGothic')"
      ],
      "metadata": {
        "id": "DqWMDKs51Co7"
      },
      "execution_count": 26,
      "outputs": []
    },
    {
      "cell_type": "code",
      "source": [
        "plt.figure(figsize=(15, 5))\n",
        "plt.xlabel(\"키워드\")\n",
        "plt.ylabel(\"빈도수\")\n",
        "plt.grid(True)\n",
        "\n",
        "plt.bar(range(len(word_count_json)), word_count_json.values())\n",
        "plt.xticks(range(len(word_count_json)), word_count_json.keys(), rotation='85')\n",
        "plt.show()"
      ],
      "metadata": {
        "colab": {
          "base_uri": "https://localhost:8080/",
          "height": 361
        },
        "id": "03z2XR4t2qFC",
        "outputId": "9a3a9431-2fd0-483e-973b-c4935b5448d4"
      },
      "execution_count": 27,
      "outputs": [
        {
          "output_type": "display_data",
          "data": {
            "image/png": "[encoded data removed]",
            "text/plain": [
              "<Figure size 1080x360 with 1 Axes>"
            ]
          },
          "metadata": {
            "needs_background": "light"
          }
        }
      ]
    },
    {
      "cell_type": "code",
      "source": [
        ""
      ],
      "metadata": {
        "id": "f582VJrB67a-"
      },
      "execution_count": null,
      "outputs": []
    }
  ]
}