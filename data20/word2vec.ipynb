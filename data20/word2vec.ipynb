{
 "cells": [
  {
   "cell_type": "code",
   "execution_count": 1,
   "id": "879aaa78",
   "metadata": {},
   "outputs": [
    {
     "name": "stdout",
     "output_type": "stream",
     "text": [
      "Collecting gensim\n",
      "  Downloading gensim-4.1.2-cp38-cp38-macosx_10_9_x86_64.whl (24.0 MB)\n",
      "\u001b[K     |████████████████████████████████| 24.0 MB 7.0 MB/s eta 0:00:011\n",
      "\u001b[?25hRequirement already satisfied: numpy>=1.17.0 in /opt/anaconda3/lib/python3.8/site-packages (from gensim) (1.20.1)\n",
      "Collecting smart-open>=1.8.1\n",
      "  Downloading smart_open-5.2.1-py3-none-any.whl (58 kB)\n",
      "\u001b[K     |████████████████████████████████| 58 kB 2.4 MB/s eta 0:00:011\n",
      "\u001b[?25hRequirement already satisfied: scipy>=0.18.1 in /opt/anaconda3/lib/python3.8/site-packages (from gensim) (1.6.2)\n",
      "Installing collected packages: smart-open, gensim\n",
      "Successfully installed gensim-4.1.2 smart-open-5.2.1\n"
     ]
    }
   ],
   "source": [
    "# !pip install gensim"
   ]
  },
  {
   "cell_type": "code",
   "execution_count": 2,
   "id": "6ba295d7",
   "metadata": {},
   "outputs": [],
   "source": [
    "from gensim.models import Word2VecVec"
   ]
  },
  {
   "cell_type": "code",
   "execution_count": 3,
   "id": "281b9134",
   "metadata": {},
   "outputs": [],
   "source": [
    "doc = [\n",
    "    'you say goodbye and I say hello', \n",
    "    'i say happy or he said white'\n",
    "]"
   ]
  },
  {
   "cell_type": "code",
   "execution_count": 4,
   "id": "db40b8f1",
   "metadata": {},
   "outputs": [
    {
     "data": {
      "text/plain": [
       "[['you', 'say', 'goodbye', 'and', 'I', 'say', 'hello'],\n",
       " ['i', 'say', 'happy', 'or', 'he', 'said', 'white']]"
      ]
     },
     "execution_count": 4,
     "metadata": {},
     "output_type": "execute_result"
    }
   ],
   "source": [
    "sentences = [sentence.split(' ') for sentence in doc]\n",
    "sentences"
   ]
  },
  {
   "cell_type": "code",
   "execution_count": 7,
   "id": "d6d5696b",
   "metadata": {},
   "outputs": [],
   "source": [
    "model = Word2Vec(window=1, min_count=1, sg=1)"
   ]
  },
  {
   "cell_type": "code",
   "execution_count": 8,
   "id": "1107ad90",
   "metadata": {},
   "outputs": [],
   "source": [
    "model.build_vocab(sentences)"
   ]
  },
  {
   "cell_type": "code",
   "execution_count": 9,
   "id": "f0fdd46e",
   "metadata": {},
   "outputs": [
    {
     "data": {
      "text/plain": [
       "[('and', 0.21617144346237183),\n",
       " ('hello', 0.09291724115610123),\n",
       " ('you', 0.07963486015796661),\n",
       " ('goodbye', 0.06285081058740616),\n",
       " ('I', 0.0270574688911438),\n",
       " ('i', 0.0161347147077322),\n",
       " ('white', -0.010839186608791351),\n",
       " ('or', -0.027750365436077118),\n",
       " ('said', -0.052346765995025635),\n",
       " ('happy', -0.059876278042793274)]"
      ]
     },
     "execution_count": 9,
     "metadata": {},
     "output_type": "execute_result"
    }
   ],
   "source": [
    "model.wv.most_similar('say')"
   ]
  },
  {
   "cell_type": "code",
   "execution_count": null,
   "id": "ae59db22",
   "metadata": {},
   "outputs": [],
   "source": []
  }
 ],
 "metadata": {
  "kernelspec": {
   "display_name": "Python 3",
   "language": "python",
   "name": "python3"
  },
  "language_info": {
   "codemirror_mode": {
    "name": "ipython",
    "version": 3
   },
   "file_extension": ".py",
   "mimetype": "text/x-python",
   "name": "python",
   "nbconvert_exporter": "python",
   "pygments_lexer": "ipython3",
   "version": "3.8.8"
  }
 },
 "nbformat": 4,
 "nbformat_minor": 5
}
