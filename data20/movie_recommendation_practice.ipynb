{
 "cells": [
  {
   "cell_type": "code",
   "execution_count": 1,
   "id": "8bd623f4",
   "metadata": {},
   "outputs": [],
   "source": [
    "import pandas as pd\n",
    "import numpy as np"
   ]
  },
  {
   "cell_type": "code",
   "execution_count": 2,
   "id": "04313653",
   "metadata": {},
   "outputs": [
    {
     "data": {
      "text/html": [
       "<div>\n",
       "<style scoped>\n",
       "    .dataframe tbody tr th:only-of-type {\n",
       "        vertical-align: middle;\n",
       "    }\n",
       "\n",
       "    .dataframe tbody tr th {\n",
       "        vertical-align: top;\n",
       "    }\n",
       "\n",
       "    .dataframe thead th {\n",
       "        text-align: right;\n",
       "    }\n",
       "</style>\n",
       "<table border=\"1\" class=\"dataframe\">\n",
       "  <thead>\n",
       "    <tr style=\"text-align: right;\">\n",
       "      <th></th>\n",
       "      <th>critic</th>\n",
       "      <th>title</th>\n",
       "      <th>rating</th>\n",
       "    </tr>\n",
       "  </thead>\n",
       "  <tbody>\n",
       "    <tr>\n",
       "      <th>0</th>\n",
       "      <td>Jack</td>\n",
       "      <td>Lady</td>\n",
       "      <td>3.0</td>\n",
       "    </tr>\n",
       "    <tr>\n",
       "      <th>1</th>\n",
       "      <td>Jack</td>\n",
       "      <td>Snakes</td>\n",
       "      <td>4.0</td>\n",
       "    </tr>\n",
       "    <tr>\n",
       "      <th>2</th>\n",
       "      <td>Jack</td>\n",
       "      <td>You Me</td>\n",
       "      <td>3.5</td>\n",
       "    </tr>\n",
       "    <tr>\n",
       "      <th>3</th>\n",
       "      <td>Jack</td>\n",
       "      <td>Superman</td>\n",
       "      <td>5.0</td>\n",
       "    </tr>\n",
       "    <tr>\n",
       "      <th>4</th>\n",
       "      <td>Jack</td>\n",
       "      <td>The Night</td>\n",
       "      <td>3.0</td>\n",
       "    </tr>\n",
       "    <tr>\n",
       "      <th>5</th>\n",
       "      <td>Mick</td>\n",
       "      <td>Lady</td>\n",
       "      <td>3.0</td>\n",
       "    </tr>\n",
       "    <tr>\n",
       "      <th>6</th>\n",
       "      <td>Mick</td>\n",
       "      <td>Snakes</td>\n",
       "      <td>4.0</td>\n",
       "    </tr>\n",
       "    <tr>\n",
       "      <th>7</th>\n",
       "      <td>Mick</td>\n",
       "      <td>Just My</td>\n",
       "      <td>2.0</td>\n",
       "    </tr>\n",
       "    <tr>\n",
       "      <th>8</th>\n",
       "      <td>Mick</td>\n",
       "      <td>Superman</td>\n",
       "      <td>3.0</td>\n",
       "    </tr>\n",
       "    <tr>\n",
       "      <th>9</th>\n",
       "      <td>Mick</td>\n",
       "      <td>You Me</td>\n",
       "      <td>2.0</td>\n",
       "    </tr>\n",
       "    <tr>\n",
       "      <th>10</th>\n",
       "      <td>Mick</td>\n",
       "      <td>The Night</td>\n",
       "      <td>3.0</td>\n",
       "    </tr>\n",
       "    <tr>\n",
       "      <th>11</th>\n",
       "      <td>Claudia</td>\n",
       "      <td>Snakes</td>\n",
       "      <td>3.5</td>\n",
       "    </tr>\n",
       "    <tr>\n",
       "      <th>12</th>\n",
       "      <td>Claudia</td>\n",
       "      <td>Just My</td>\n",
       "      <td>3.0</td>\n",
       "    </tr>\n",
       "    <tr>\n",
       "      <th>13</th>\n",
       "      <td>Claudia</td>\n",
       "      <td>You Me</td>\n",
       "      <td>2.5</td>\n",
       "    </tr>\n",
       "    <tr>\n",
       "      <th>14</th>\n",
       "      <td>Claudia</td>\n",
       "      <td>Superman</td>\n",
       "      <td>4.0</td>\n",
       "    </tr>\n",
       "    <tr>\n",
       "      <th>15</th>\n",
       "      <td>Claudia</td>\n",
       "      <td>The Night</td>\n",
       "      <td>4.5</td>\n",
       "    </tr>\n",
       "    <tr>\n",
       "      <th>16</th>\n",
       "      <td>Lisa</td>\n",
       "      <td>Lady</td>\n",
       "      <td>2.5</td>\n",
       "    </tr>\n",
       "    <tr>\n",
       "      <th>17</th>\n",
       "      <td>Lisa</td>\n",
       "      <td>Snakes</td>\n",
       "      <td>3.5</td>\n",
       "    </tr>\n",
       "    <tr>\n",
       "      <th>18</th>\n",
       "      <td>Lisa</td>\n",
       "      <td>Just My</td>\n",
       "      <td>3.0</td>\n",
       "    </tr>\n",
       "    <tr>\n",
       "      <th>19</th>\n",
       "      <td>Lisa</td>\n",
       "      <td>Superman</td>\n",
       "      <td>3.5</td>\n",
       "    </tr>\n",
       "    <tr>\n",
       "      <th>20</th>\n",
       "      <td>Lisa</td>\n",
       "      <td>The Night</td>\n",
       "      <td>3.0</td>\n",
       "    </tr>\n",
       "    <tr>\n",
       "      <th>21</th>\n",
       "      <td>Lisa</td>\n",
       "      <td>You Me</td>\n",
       "      <td>2.5</td>\n",
       "    </tr>\n",
       "    <tr>\n",
       "      <th>22</th>\n",
       "      <td>Toby</td>\n",
       "      <td>Snakes</td>\n",
       "      <td>4.5</td>\n",
       "    </tr>\n",
       "    <tr>\n",
       "      <th>23</th>\n",
       "      <td>Toby</td>\n",
       "      <td>Superman</td>\n",
       "      <td>4.0</td>\n",
       "    </tr>\n",
       "    <tr>\n",
       "      <th>24</th>\n",
       "      <td>Toby</td>\n",
       "      <td>You Me</td>\n",
       "      <td>1.0</td>\n",
       "    </tr>\n",
       "    <tr>\n",
       "      <th>25</th>\n",
       "      <td>Gene</td>\n",
       "      <td>Lady</td>\n",
       "      <td>3.0</td>\n",
       "    </tr>\n",
       "    <tr>\n",
       "      <th>26</th>\n",
       "      <td>Gene</td>\n",
       "      <td>Snakes</td>\n",
       "      <td>3.5</td>\n",
       "    </tr>\n",
       "    <tr>\n",
       "      <th>27</th>\n",
       "      <td>Gene</td>\n",
       "      <td>Just My</td>\n",
       "      <td>1.5</td>\n",
       "    </tr>\n",
       "    <tr>\n",
       "      <th>28</th>\n",
       "      <td>Gene</td>\n",
       "      <td>Superman</td>\n",
       "      <td>5.0</td>\n",
       "    </tr>\n",
       "    <tr>\n",
       "      <th>29</th>\n",
       "      <td>Gene</td>\n",
       "      <td>You Me</td>\n",
       "      <td>3.5</td>\n",
       "    </tr>\n",
       "    <tr>\n",
       "      <th>30</th>\n",
       "      <td>Gene</td>\n",
       "      <td>The Night</td>\n",
       "      <td>3.0</td>\n",
       "    </tr>\n",
       "  </tbody>\n",
       "</table>\n",
       "</div>"
      ],
      "text/plain": [
       "     critic      title  rating\n",
       "0      Jack       Lady     3.0\n",
       "1      Jack     Snakes     4.0\n",
       "2      Jack     You Me     3.5\n",
       "3      Jack   Superman     5.0\n",
       "4      Jack  The Night     3.0\n",
       "5      Mick       Lady     3.0\n",
       "6      Mick     Snakes     4.0\n",
       "7      Mick    Just My     2.0\n",
       "8      Mick   Superman     3.0\n",
       "9      Mick     You Me     2.0\n",
       "10     Mick  The Night     3.0\n",
       "11  Claudia     Snakes     3.5\n",
       "12  Claudia    Just My     3.0\n",
       "13  Claudia     You Me     2.5\n",
       "14  Claudia   Superman     4.0\n",
       "15  Claudia  The Night     4.5\n",
       "16     Lisa       Lady     2.5\n",
       "17     Lisa     Snakes     3.5\n",
       "18     Lisa    Just My     3.0\n",
       "19     Lisa   Superman     3.5\n",
       "20     Lisa  The Night     3.0\n",
       "21     Lisa     You Me     2.5\n",
       "22     Toby     Snakes     4.5\n",
       "23     Toby   Superman     4.0\n",
       "24     Toby     You Me     1.0\n",
       "25     Gene       Lady     3.0\n",
       "26     Gene     Snakes     3.5\n",
       "27     Gene    Just My     1.5\n",
       "28     Gene   Superman     5.0\n",
       "29     Gene     You Me     3.5\n",
       "30     Gene  The Night     3.0"
      ]
     },
     "execution_count": 2,
     "metadata": {},
     "output_type": "execute_result"
    }
   ],
   "source": [
    "ratings = pd.read_csv('./csv_data_files/movie_rating.csv')\n",
    "ratings"
   ]
  },
  {
   "cell_type": "code",
   "execution_count": 3,
   "id": "a43341ec",
   "metadata": {},
   "outputs": [
    {
     "data": {
      "text/plain": [
       "['Lady', 'Superman', 'Snakes', 'You Me', 'Just My', 'The Night']"
      ]
     },
     "execution_count": 3,
     "metadata": {},
     "output_type": "execute_result"
    }
   ],
   "source": [
    "movie_titles = list(set(ratings['title']))\n",
    "movie_titles"
   ]
  },
  {
   "cell_type": "code",
   "execution_count": 4,
   "id": "57bfd8cb",
   "metadata": {},
   "outputs": [
    {
     "data": {
      "text/plain": [
       "['Mick', 'Toby', 'Gene', 'Claudia', 'Jack', 'Lisa']"
      ]
     },
     "execution_count": 4,
     "metadata": {},
     "output_type": "execute_result"
    }
   ],
   "source": [
    "critic = list(set(ratings['critic']))\n",
    "critic"
   ]
  },
  {
   "cell_type": "code",
   "execution_count": 5,
   "id": "4377fd6b",
   "metadata": {
    "scrolled": true
   },
   "outputs": [
    {
     "data": {
      "text/html": [
       "<div>\n",
       "<style scoped>\n",
       "    .dataframe tbody tr th:only-of-type {\n",
       "        vertical-align: middle;\n",
       "    }\n",
       "\n",
       "    .dataframe tbody tr th {\n",
       "        vertical-align: top;\n",
       "    }\n",
       "\n",
       "    .dataframe thead th {\n",
       "        text-align: right;\n",
       "    }\n",
       "</style>\n",
       "<table border=\"1\" class=\"dataframe\">\n",
       "  <thead>\n",
       "    <tr style=\"text-align: right;\">\n",
       "      <th>title</th>\n",
       "      <th>Just My</th>\n",
       "      <th>Lady</th>\n",
       "      <th>Snakes</th>\n",
       "      <th>Superman</th>\n",
       "      <th>The Night</th>\n",
       "      <th>You Me</th>\n",
       "    </tr>\n",
       "    <tr>\n",
       "      <th>critic</th>\n",
       "      <th></th>\n",
       "      <th></th>\n",
       "      <th></th>\n",
       "      <th></th>\n",
       "      <th></th>\n",
       "      <th></th>\n",
       "    </tr>\n",
       "  </thead>\n",
       "  <tbody>\n",
       "    <tr>\n",
       "      <th>Claudia</th>\n",
       "      <td>3.0</td>\n",
       "      <td>NaN</td>\n",
       "      <td>3.5</td>\n",
       "      <td>4.0</td>\n",
       "      <td>4.5</td>\n",
       "      <td>2.5</td>\n",
       "    </tr>\n",
       "    <tr>\n",
       "      <th>Gene</th>\n",
       "      <td>1.5</td>\n",
       "      <td>3.0</td>\n",
       "      <td>3.5</td>\n",
       "      <td>5.0</td>\n",
       "      <td>3.0</td>\n",
       "      <td>3.5</td>\n",
       "    </tr>\n",
       "    <tr>\n",
       "      <th>Jack</th>\n",
       "      <td>NaN</td>\n",
       "      <td>3.0</td>\n",
       "      <td>4.0</td>\n",
       "      <td>5.0</td>\n",
       "      <td>3.0</td>\n",
       "      <td>3.5</td>\n",
       "    </tr>\n",
       "    <tr>\n",
       "      <th>Lisa</th>\n",
       "      <td>3.0</td>\n",
       "      <td>2.5</td>\n",
       "      <td>3.5</td>\n",
       "      <td>3.5</td>\n",
       "      <td>3.0</td>\n",
       "      <td>2.5</td>\n",
       "    </tr>\n",
       "    <tr>\n",
       "      <th>Mick</th>\n",
       "      <td>2.0</td>\n",
       "      <td>3.0</td>\n",
       "      <td>4.0</td>\n",
       "      <td>3.0</td>\n",
       "      <td>3.0</td>\n",
       "      <td>2.0</td>\n",
       "    </tr>\n",
       "    <tr>\n",
       "      <th>Toby</th>\n",
       "      <td>NaN</td>\n",
       "      <td>NaN</td>\n",
       "      <td>4.5</td>\n",
       "      <td>4.0</td>\n",
       "      <td>NaN</td>\n",
       "      <td>1.0</td>\n",
       "    </tr>\n",
       "  </tbody>\n",
       "</table>\n",
       "</div>"
      ],
      "text/plain": [
       "title    Just My  Lady  Snakes  Superman  The Night  You Me\n",
       "critic                                                     \n",
       "Claudia      3.0   NaN     3.5       4.0        4.5     2.5\n",
       "Gene         1.5   3.0     3.5       5.0        3.0     3.5\n",
       "Jack         NaN   3.0     4.0       5.0        3.0     3.5\n",
       "Lisa         3.0   2.5     3.5       3.5        3.0     2.5\n",
       "Mick         2.0   3.0     4.0       3.0        3.0     2.0\n",
       "Toby         NaN   NaN     4.5       4.0        NaN     1.0"
      ]
     },
     "execution_count": 5,
     "metadata": {},
     "output_type": "execute_result"
    }
   ],
   "source": [
    "df = pd.crosstab(index = ratings.critic, columns = ratings.title, \n",
    "            values = ratings.rating, aggfunc = np.sum)\n",
    "df"
   ]
  },
  {
   "cell_type": "code",
   "execution_count": 6,
   "id": "8def72f6",
   "metadata": {},
   "outputs": [
    {
     "data": {
      "text/plain": [
       "Index(['Claudia', 'Gene', 'Jack', 'Lisa', 'Mick', 'Toby'], dtype='object', name='critic')"
      ]
     },
     "execution_count": 6,
     "metadata": {},
     "output_type": "execute_result"
    }
   ],
   "source": [
    "df.index"
   ]
  },
  {
   "cell_type": "code",
   "execution_count": 7,
   "id": "37eac27f",
   "metadata": {},
   "outputs": [],
   "source": [
    "import surprise\n",
    "\n",
    "from surprise import SVD # 고유값분해(행렬을 더 낮은 차원으로 분해 but 고유한 성질은 그대로)해서 다시 원본으로 살리면서 잠재적인 값을 추론하는 방법\n",
    "from surprise import Dataset, Reader # SVD를 사용하기 위한 데이터셋 만들어주는 클래스\n",
    "                             # 사용자, 영화, 평점\n",
    "from surprise import accuracy # RMSE, MSE, CrossValidation(k-fold)\n",
    "from surprise.model_selection import train_test_split # 훈련/검증 데이터 분류"
   ]
  },
  {
   "cell_type": "code",
   "execution_count": 8,
   "id": "114016dc",
   "metadata": {},
   "outputs": [],
   "source": [
    "reader = Reader(rating_scale=(0.5, 5.0))"
   ]
  },
  {
   "cell_type": "code",
   "execution_count": 9,
   "id": "226816a0",
   "metadata": {
    "scrolled": true
   },
   "outputs": [
    {
     "data": {
      "text/plain": [
       "<surprise.dataset.DatasetAutoFolds at 0x7fafb83939d0>"
      ]
     },
     "execution_count": 9,
     "metadata": {},
     "output_type": "execute_result"
    }
   ],
   "source": [
    "# SVD에서 사용할 수 있는 데이터셋으로 만들어주자.\n",
    "data = Dataset.load_from_df(ratings[['critic', 'title', 'rating']], reader)\n",
    "data"
   ]
  },
  {
   "cell_type": "code",
   "execution_count": 10,
   "id": "d9176dbb",
   "metadata": {
    "scrolled": true
   },
   "outputs": [],
   "source": [
    "trainset, testset = train_test_split(data, test_size=0.25, random_state=0)"
   ]
  },
  {
   "cell_type": "code",
   "execution_count": 11,
   "id": "b8f083f6",
   "metadata": {},
   "outputs": [
    {
     "name": "stdout",
     "output_type": "stream",
     "text": [
      "RMSE: 0.8610\n"
     ]
    },
    {
     "data": {
      "text/plain": [
       "0.8610455895357841"
      ]
     },
     "execution_count": 11,
     "metadata": {},
     "output_type": "execute_result"
    }
   ],
   "source": [
    "# 객체 생성\n",
    "svd = SVD(n_factors=50, n_epochs= 40,  random_state=0)\n",
    "\n",
    "# 훈련\n",
    "svd.fit(trainset) \n",
    "\n",
    "# 검증\n",
    "predictions = svd.test(testset)\n",
    "\n",
    "# 결과분석\n",
    "accuracy.rmse(predictions)"
   ]
  },
  {
   "cell_type": "code",
   "execution_count": 12,
   "id": "94f34ae3",
   "metadata": {},
   "outputs": [],
   "source": [
    "from surprise.model_selection import cross_validate"
   ]
  },
  {
   "cell_type": "code",
   "execution_count": 13,
   "id": "aeb8161b",
   "metadata": {},
   "outputs": [
    {
     "name": "stdout",
     "output_type": "stream",
     "text": [
      "Evaluating RMSE, MAE of algorithm SVD on 5 split(s).\n",
      "\n",
      "                  Fold 1  Fold 2  Fold 3  Fold 4  Fold 5  Mean    Std     \n",
      "RMSE (testset)    0.6350  0.5220  1.0787  0.6386  1.0710  0.7890  0.2371  \n",
      "MAE (testset)     0.4914  0.4633  0.9160  0.4526  0.6588  0.5964  0.1763  \n",
      "Fit time          0.01    0.00    0.00    0.00    0.00    0.00    0.00    \n",
      "Test time         0.00    0.00    0.00    0.00    0.00    0.00    0.00    \n"
     ]
    },
    {
     "data": {
      "text/plain": [
       "{'test_rmse': array([0.63498332, 0.52202212, 1.07865484, 0.63855181, 1.07103306]),\n",
       " 'test_mae': array([0.4914113 , 0.46334164, 0.91598752, 0.45257193, 0.65877644]),\n",
       " 'fit_time': (0.005028963088989258,\n",
       "  0.003364086151123047,\n",
       "  0.003525257110595703,\n",
       "  0.004836082458496094,\n",
       "  0.004389047622680664),\n",
       " 'test_time': (0.00014400482177734375,\n",
       "  0.00014281272888183594,\n",
       "  0.002477884292602539,\n",
       "  0.00016808509826660156,\n",
       "  0.00016999244689941406)}"
      ]
     },
     "execution_count": 13,
     "metadata": {},
     "output_type": "execute_result"
    }
   ],
   "source": [
    "cross_validate(svd, data, measures=['RMSE', 'MAE'], cv=5, verbose=True)"
   ]
  },
  {
   "cell_type": "code",
   "execution_count": 14,
   "id": "1d6bc3c1",
   "metadata": {},
   "outputs": [],
   "source": [
    "## 내가 안본 영화 리스트 구해서, 이중에서 추천하려고 함.\n",
    "def get_unseen_surprise(titles, critics, ratings):\n",
    "    \n",
    "    # 전체 영화id 리스트\n",
    "    total_movies = movie_titles\n",
    "    \n",
    "    # 내가 본 영화id 리스트\n",
    "    seen_movies = ratings[ratings['critic'] == critics]['title'].tolist()\n",
    "    \n",
    "    # 추천 대상이 되는 영화 리스트: 전체 영화 리스트 - 내가 본 영화 리스트\n",
    "    unseen_movies = [movie for movie in total_movies if movie not in seen_movies]\n",
    "    \n",
    "    print(\"전체 영화 리스트 개수 >> \", len(total_movies))\n",
    "    print(\"내가 본 영화 리스트 개수 >> \", len(seen_movies))\n",
    "    print(\"내가 안 본 영화 리스트 개수 >> \", len(unseen_movies))\n",
    "\n",
    "    return unseen_movies"
   ]
  },
  {
   "cell_type": "code",
   "execution_count": 15,
   "id": "cdcb97b9",
   "metadata": {},
   "outputs": [
    {
     "name": "stdout",
     "output_type": "stream",
     "text": [
      "전체 영화 리스트 개수 >>  6\n",
      "내가 본 영화 리스트 개수 >>  3\n",
      "내가 안 본 영화 리스트 개수 >>  3\n"
     ]
    },
    {
     "data": {
      "text/plain": [
       "['Lady', 'Just My', 'The Night']"
      ]
     },
     "execution_count": 15,
     "metadata": {},
     "output_type": "execute_result"
    }
   ],
   "source": [
    "unseen_movies = get_unseen_surprise(movie_titles, 'Toby', ratings)\n",
    "unseen_movies"
   ]
  },
  {
   "cell_type": "code",
   "execution_count": 21,
   "id": "28fb723c",
   "metadata": {},
   "outputs": [],
   "source": [
    "## 안본 영화중에서 평점 예측이 높게 나온 3개를 리스트업하는 함수\n",
    "def recomm_movie_by_surprise(svd, critic, unseen_movies):\n",
    "    \n",
    "    # 안 본 영화리스트를 하나씩 꺼낸 다음 평점을 예측하세요\n",
    "    predictions = [svd.predict(critic, title) for title in unseen_movies]\n",
    "    \n",
    "    # 평점이 높은 순으로 정렬하는 기준을 함수화\n",
    "    def sortkey_est(one):\n",
    "        return one.est\n",
    "    \n",
    "    # 평점이 높은 순으로 정렬해서 top10 추천\n",
    "    predictions.sort(key=sortkey_est,reverse=True)\n",
    "    \n",
    "    # top_n으로 추출된 영화의 정보 추출. 영화 아이디, 추천 예상 평점, 제목 추출\n",
    "    critics = [pred.uid for pred in predictions]\n",
    "    titles = [pred.iid for pred in predictions]\n",
    "    ratings = [pred.est for pred in predictions]\n",
    "    preds = [(critic, title, np.round(rating, 2)) for critic, title, rating in zip(critics, titles, ratings)]\n",
    "    \n",
    "    return preds"
   ]
  },
  {
   "cell_type": "code",
   "execution_count": 22,
   "id": "eb9bc25d",
   "metadata": {},
   "outputs": [
    {
     "data": {
      "text/plain": [
       "[('Toby', 'The Night', 3.53),\n",
       " ('Toby', 'Lady', 3.23),\n",
       " ('Toby', 'Just My', 3.15)]"
      ]
     },
     "execution_count": 22,
     "metadata": {},
     "output_type": "execute_result"
    }
   ],
   "source": [
    "recomm_movie_by_surprise(svd, 'Toby', unseen_movies)"
   ]
  },
  {
   "cell_type": "code",
   "execution_count": null,
   "id": "e6825e39",
   "metadata": {},
   "outputs": [],
   "source": []
  }
 ],
 "metadata": {
  "kernelspec": {
   "display_name": "Python 3",
   "language": "python",
   "name": "python3"
  },
  "language_info": {
   "codemirror_mode": {
    "name": "ipython",
    "version": 3
   },
   "file_extension": ".py",
   "mimetype": "text/x-python",
   "name": "python",
   "nbconvert_exporter": "python",
   "pygments_lexer": "ipython3",
   "version": "3.8.8"
  }
 },
 "nbformat": 4,
 "nbformat_minor": 5
}
